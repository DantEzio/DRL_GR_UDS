{
 "cells": [
  {
   "cell_type": "code",
   "execution_count": 1,
   "id": "b7cd266f",
   "metadata": {},
   "outputs": [
    {
     "name": "stderr",
     "output_type": "stream",
     "text": [
      "e:\\anaconda3\\envs\\torch-env\\lib\\site-packages\\tqdm\\auto.py:21: TqdmWarning: IProgress not found. Please update jupyter and ipywidgets. See https://ipywidgets.readthedocs.io/en/stable/user_install.html\n",
      "  from .autonotebook import tqdm as notebook_tqdm\n"
     ]
    }
   ],
   "source": [
    "import pandas as pd\n",
    "from swmm_api.input_file import read_inp_file\n",
    "from swmm_api.input_file.section_labels import *\n",
    "from swmm_api.input_file.sections import *\n",
    "from swmm_api.input_file.helpers import *\n",
    "from swmm_api.input_file.sections.others import TimeseriesData\n",
    "from swmm_api.input_file.section_labels import TIMESERIES,LID_USAGE\n",
    "import os\n",
    "os.environ['CONDA_DLL_SEARCH_MODIFICATION_ENABLE']=\"1\"\n",
    "import numpy as np\n",
    "import shutil\n",
    "import yaml\n",
    "from pyswmm import Simulation,Links,Nodes,RainGages,SystemStats\n",
    "import matplotlib.pyplot as plt\n",
    "import step_sim\n",
    "import GI_setting as gs"
   ]
  },
  {
   "cell_type": "code",
   "execution_count": 2,
   "metadata": {},
   "outputs": [],
   "source": [
    "config = yaml.load(open(os.path.dirname(os.getcwd())+\"\\\\states_yaml\\\\chaohu.yaml\"), yaml.FullLoader)\n",
    "rain = np.load(os.path.dirname(os.getcwd())+'\\\\rainfall\\\\training_raindata.npy').tolist()\n",
    "inp = read_inp_file(os.path.dirname(os.getcwd())+'\\\\SWMM\\\\chaohu_RTC.inp')\n"
   ]
  },
  {
   "cell_type": "markdown",
   "metadata": {},
   "source": [
    "# 设置GI方案，考虑30%、50%、70%比例"
   ]
  },
  {
   "cell_type": "code",
   "execution_count": 4,
   "id": "6b159e46",
   "metadata": {},
   "outputs": [],
   "source": [
    "for rainid in range(10):\n",
    "    inp1 = inp.copy()\n",
    "    inp1[TIMESERIES]['rainfall']=TimeseriesData('rainfall',rain[rainid])\n",
    "    GIarea = gs.get_GIarea(inp,0.3)\n",
    "    inp1 = gs.set_GIusage(inp1,GIarea,10)\n",
    "    inp1.write_file('./Results/chaohu_rain_'+str(rainid)+'.inp')\n",
    "    #step_sim.simfile('./S12/Results/RSH/',rainid,config)\n",
    "    sim=Simulation('./Results/chaohu_rain_'+str(rainid)+'.inp')\n",
    "    #sim.execute()\n",
    "    sim.start()\n",
    "    time = sim._model.swmm_stride(300)\n",
    "    sim._model.swmm_end()\n",
    "    sim._model.swmm_close()"
   ]
  }
 ],
 "metadata": {
  "kernelspec": {
   "display_name": "Python 3",
   "language": "python",
   "name": "python3"
  },
  "language_info": {
   "codemirror_mode": {
    "name": "ipython",
    "version": 3
   },
   "file_extension": ".py",
   "mimetype": "text/x-python",
   "name": "python",
   "nbconvert_exporter": "python",
   "pygments_lexer": "ipython3",
   "version": "3.8.18"
  }
 },
 "nbformat": 4,
 "nbformat_minor": 5
}
