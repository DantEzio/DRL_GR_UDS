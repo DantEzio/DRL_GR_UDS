{
 "cells": [
  {
   "cell_type": "code",
   "execution_count": 1,
   "id": "0c9eff65-3ffa-4840-92c8-eab1dfa11cb2",
   "metadata": {},
   "outputs": [],
   "source": [
    "import numpy as np\n",
    "import Rainfall_data as RD\n",
    "import matplotlib.pyplot as plt"
   ]
  },
  {
   "cell_type": "markdown",
   "id": "a5e128b4-4d29-4b0d-9f8d-30c986a0fa41",
   "metadata": {},
   "source": [
    "# 转化real rainfall数据"
   ]
  },
  {
   "cell_type": "code",
   "execution_count": 2,
   "id": "e51a7b96-c1a7-49e6-a5c2-c130e0524d5a",
   "metadata": {},
   "outputs": [],
   "source": [
    "rainData=np.loadtxt('./real_rain_data.txt',delimiter=' ')*20#读取训练降雨数据"
   ]
  },
  {
   "cell_type": "code",
   "execution_count": 3,
   "id": "af010570-19dd-4710-8a60-938a2141cd72",
   "metadata": {},
   "outputs": [],
   "source": [
    "def Realrain_tran(rain):\n",
    "    delta=1\n",
    "    dura=rain.shape[0]\n",
    "    Hs = []\n",
    "    for i in range(dura//delta):\n",
    "        Hs.append(rain[i])\n",
    "    ts=[]\n",
    "    for i in range(dura//delta):\n",
    "        t = i*delta\n",
    "        key = '08/28/2015 '+str(9+t//60).zfill(2)+':'+str(t % 60).zfill(2)\n",
    "        ts.append([key,Hs[i]])\n",
    "    return ts"
   ]
  },
  {
   "cell_type": "code",
   "execution_count": 4,
   "id": "ae301df0-0013-45c0-b65a-c6e76dee923c",
   "metadata": {},
   "outputs": [],
   "source": [
    "real_rain=[]\n",
    "for i in range(rainData.shape[0]):\n",
    "    tem=Realrain_tran(10*rainData[i])\n",
    "    real_rain.append(tem)\n",
    "np.save('./RealRain/real.npy',np.array(real_rain))"
   ]
  },
  {
   "cell_type": "code",
   "execution_count": null,
   "id": "7a465da8-6027-4409-af9d-80cd95392c8d",
   "metadata": {},
   "outputs": [],
   "source": []
  }
 ],
 "metadata": {
  "kernelspec": {
   "display_name": "Python 3",
   "language": "python",
   "name": "python3"
  },
  "language_info": {
   "codemirror_mode": {
    "name": "ipython",
    "version": 3
   },
   "file_extension": ".py",
   "mimetype": "text/x-python",
   "name": "python",
   "nbconvert_exporter": "python",
   "pygments_lexer": "ipython3",
   "version": "3.9.13"
  }
 },
 "nbformat": 4,
 "nbformat_minor": 5
}
