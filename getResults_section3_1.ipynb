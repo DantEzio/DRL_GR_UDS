{
 "cells": [
  {
   "cell_type": "code",
   "execution_count": 1,
   "metadata": {},
   "outputs": [
    {
     "name": "stderr",
     "output_type": "stream",
     "text": [
      "e:\\anaconda3\\envs\\tensorflow-cpu\\lib\\site-packages\\tqdm\\auto.py:22: TqdmWarning: IProgress not found. Please update jupyter and ipywidgets. See https://ipywidgets.readthedocs.io/en/stable/user_install.html\n",
      "  from .autonotebook import tqdm as notebook_tqdm\n"
     ]
    }
   ],
   "source": [
    "import pyswmm\n",
    "import numpy as np\n",
    "import pandas as pd\n",
    "from swmm_api import read_out_file\n",
    "from swmm_api import read_out_file\n",
    "from swmm_api import read_rpt_file\n",
    "import matplotlib.pyplot as plt\n",
    "import os"
   ]
  },
  {
   "attachments": {},
   "cell_type": "markdown",
   "metadata": {},
   "source": [
    "# Section 3.1"
   ]
  },
  {
   "attachments": {},
   "cell_type": "markdown",
   "metadata": {},
   "source": [
    "## S1-S6; Rain id: \n",
    "### RSH: 0,1,2,3,4,5   ##0,1,3,4,6,7\n",
    "### RN: 2top: 0,1,2;  3top: 1,2,4\n",
    "### Real: 0,1,2,3"
   ]
  },
  {
   "attachments": {},
   "cell_type": "markdown",
   "metadata": {},
   "source": [
    "### 重新获取inp运行，得到FC、Res、DRes序列"
   ]
  },
  {
   "cell_type": "code",
   "execution_count": 2,
   "metadata": {},
   "outputs": [
    {
     "name": "stdout",
     "output_type": "stream",
     "text": [
      "          0         1         2         3         4         5\n",
      "0  0.702123  0.712845  0.637045  0.600598  0.596634  0.576838\n",
      "1  0.596506  0.611314  0.597485  0.593375       NaN       NaN\n",
      "2  0.736366  0.747051  0.668927  0.621182  0.608955  0.592299\n",
      "3  0.616875  0.656657  0.628584  0.616594       NaN       NaN\n",
      "4  0.740038  0.750815  0.698436  0.666008  0.658501  0.641348\n",
      "5  0.640065  0.654234  0.647017  0.639481       NaN       NaN\n",
      "6  0.768479  0.776305  0.720251  0.682548  0.673394  0.654958\n",
      "7  0.658560  0.685103  0.667181  0.658138       NaN       NaN\n"
     ]
    }
   ],
   "source": [
    "filename=os.listdir('./Step3_1_S1-S8/')\n",
    "results=[]\n",
    "for it in ['S1','S2','S3','S4','S5','S6','S7','S8']:\n",
    "    if it == 'S1' or it == 'S3' or it == 'S5' or it == 'S7':\n",
    "        ls=[0,1,2,3,4,5]\n",
    "    elif it == 'S2'  or it == 'S4' or it == 'S6' or it == 'S8':\n",
    "        ls=[0,1,2,3]\n",
    "    \n",
    "    rpts = [np.load('./Step3_1_S1-S8/'+it+'/Results/'+str(i)+'.npy',allow_pickle=True).tolist() for i in ls]\n",
    "    #FC\n",
    "    #tem=[]\n",
    "    #for rpt in rpts:\n",
    "    #    tem.append((rpt['F'][-1]+rpt['C'][-1])/1000)\n",
    "    #results.append(tem)\n",
    "    #Res\n",
    "    tem=[]\n",
    "    for rpt in rpts:\n",
    "        tem.append(np.mean(rpt['RES']))\n",
    "    results.append(tem)\n",
    "\n",
    "dresults1=pd.DataFrame(results)       \n",
    "dresults1.to_csv('table_Section31.csv')\n",
    "print(dresults1)"
   ]
  },
  {
   "cell_type": "code",
   "execution_count": 3,
   "metadata": {},
   "outputs": [
    {
     "name": "stdout",
     "output_type": "stream",
     "text": [
      "              0             1             2             3             4  \\\n",
      "0  16291.474297  16343.420047  21223.782485  31781.957189  32429.165420   \n",
      "1  20566.490347  14233.176828  22903.140258  19076.553874           NaN   \n",
      "2  13478.247242  13577.563617  17484.422525  27931.978843  28563.592697   \n",
      "3  16823.928699  11814.243594  18789.485823  15641.363219           NaN   \n",
      "4  15393.205692  15436.332394  20424.319923  31092.655803  31727.022081   \n",
      "5  19887.468499  13255.430270  22256.150264  18391.457645           NaN   \n",
      "6  12562.244694  12643.554063  16660.878436  27216.868806  27832.380885   \n",
      "7  16073.699790  10620.054268  18036.935488  14843.329466           NaN   \n",
      "\n",
      "              5  \n",
      "0  42874.066667  \n",
      "1           NaN  \n",
      "2  38717.993270  \n",
      "3           NaN  \n",
      "4  42248.635697  \n",
      "5           NaN  \n",
      "6  38045.749354  \n",
      "7           NaN  \n"
     ]
    }
   ],
   "source": [
    "filename=os.listdir('./Step3_1_S1-S8/')\n",
    "results=[]\n",
    "for it in ['S1','S2','S3','S4','S5','S6','S7','S8']:\n",
    "    if it == 'S1' or it == 'S3' or it == 'S5' or it == 'S7':\n",
    "        ls=[0,1,2,3,4,5]\n",
    "    elif it == 'S2'  or it == 'S4' or it == 'S6' or it == 'S8':\n",
    "        ls=[0,1,2,3]\n",
    "    \n",
    "    rpts = [np.load('./Step3_1_S1-S8/'+it+'/Results/'+str(i)+'.npy',allow_pickle=True).tolist() for i in ls]\n",
    "    #FC\n",
    "    #tem=[]\n",
    "    #for rpt in rpts:\n",
    "    #    tem.append((rpt['F'][-1]+rpt['C'][-1])/1000)\n",
    "    #results.append(tem)\n",
    "    #Res\n",
    "    tem=[]\n",
    "    for rpt in rpts:\n",
    "        tem.append(np.mean(rpt['F']+rpt['C']))\n",
    "    results.append(tem)\n",
    "\n",
    "dresults1=pd.DataFrame(results)       \n",
    "dresults1.to_csv('table_Section31.csv')\n",
    "print(dresults1)"
   ]
  },
  {
   "attachments": {},
   "cell_type": "markdown",
   "metadata": {},
   "source": [
    "# Section 3.2"
   ]
  },
  {
   "cell_type": "code",
   "execution_count": 4,
   "metadata": {},
   "outputs": [
    {
     "name": "stdout",
     "output_type": "stream",
     "text": [
      "          0         1        2         3         4         5\n",
      "0  0.804736  0.820327  0.76740  0.730117  0.719452  0.703688\n",
      "1  0.989540  0.989540  0.98954  0.989540       NaN       NaN\n"
     ]
    }
   ],
   "source": [
    "filename=os.listdir('./Step4_RTC_DDQN/DDQN/Results/')\n",
    "results=[]\n",
    "for it in ['RSH','RR']:\n",
    "    if it == 'RSH':\n",
    "        ls=[0,1,2,3,4,5]\n",
    "    elif it == 'RR':\n",
    "        ls=[0,1,2,3]\n",
    "    \n",
    "    rpts = [np.load('./Step4_RTC_DDQN/DDQN/Results/'+it+'/'+str(i)+'.npy',allow_pickle=True).tolist() for i in ls]\n",
    "    #FC\n",
    "    tem=[]\n",
    "    #for rpt in rpts:\n",
    "    #    tem.append((rpt['F'][-1]+rpt['C'][-1])/1000)\n",
    "    #results.append(tem)\n",
    "    #Res\n",
    "    tem=[]\n",
    "    for rpt in rpts:\n",
    "        tem.append(np.mean(rpt['RES']))\n",
    "    results.append(tem)\n",
    "\n",
    "dresults=pd.DataFrame(results)       \n",
    "print(dresults)\n",
    "dresults.to_csv('table_Section32.csv')"
   ]
  },
  {
   "cell_type": "code",
   "execution_count": 5,
   "metadata": {},
   "outputs": [
    {
     "name": "stdout",
     "output_type": "stream",
     "text": [
      "          0         1        2         3         4         5\n",
      "0  0.804736  0.820327  0.76740  0.730117  0.719452  0.703688\n",
      "1  0.989540  0.989540  0.98954  0.989540       NaN       NaN\n"
     ]
    }
   ],
   "source": [
    "filename=os.listdir('./Step4_RTC_DDQN_noGI/DDQN/Results/')\n",
    "results=[]\n",
    "for it in ['RSH','RR']:\n",
    "    if it == 'RSH':\n",
    "        ls=[0,1,2,3,4,5]\n",
    "    elif it == 'RR':\n",
    "        ls=[0,1,2,3]\n",
    "    \n",
    "    rpts = [np.load('./Step4_RTC_DDQN/DDQN/Results/'+it+'/'+str(i)+'.npy',allow_pickle=True).tolist() for i in ls]\n",
    "    #FC\n",
    "    tem=[]\n",
    "    #for rpt in rpts:\n",
    "    #    tem.append((rpt['F'][-1]+rpt['C'][-1])/1000)\n",
    "    #results.append(tem)\n",
    "    #Res\n",
    "    tem=[]\n",
    "    for rpt in rpts:\n",
    "        tem.append(np.mean(rpt['RES']))\n",
    "    results.append(tem)\n",
    "\n",
    "dresults=pd.DataFrame(results)       \n",
    "print(dresults)\n",
    "dresults.to_csv('table_Section32.csv')"
   ]
  },
  {
   "cell_type": "code",
   "execution_count": 6,
   "metadata": {},
   "outputs": [
    {
     "name": "stdout",
     "output_type": "stream",
     "text": [
      "          0         1         2         3         4         5\n",
      "0  0.777215  0.799728  0.821925  0.801391  0.781688  0.754378\n",
      "1  0.997908  0.993724  0.987451  0.995816       NaN       NaN\n"
     ]
    }
   ],
   "source": [
    "filename=os.listdir('./Step4_RTC_PPO/PPO/Results/')\n",
    "results=[]\n",
    "for it in ['RSH','RR']:\n",
    "    if it == 'RSH':\n",
    "        ls=[0,1,2,3,4,5]\n",
    "    elif it == 'RR':\n",
    "        ls=[0,1,2,3]\n",
    "    \n",
    "    rpts = [np.load('./Step4_RTC_PPO/PPO/Results/'+it+'/'+str(i)+'.npy',allow_pickle=True).tolist() for i in ls]\n",
    "    #FC\n",
    "    #tem=[]\n",
    "    #for rpt in rpts:\n",
    "    #    tem.append((rpt['F'][-1]+rpt['C'][-1])/1000)\n",
    "    #results.append(tem)\n",
    "    #Res\n",
    "    tem=[]\n",
    "    for rpt in rpts:\n",
    "        tem.append(np.mean(rpt['RES']))\n",
    "    results.append(tem)\n",
    "\n",
    "dresults=pd.DataFrame(results)       \n",
    "print(dresults)\n",
    "dresults.to_csv('table_Section33.csv')"
   ]
  },
  {
   "cell_type": "code",
   "execution_count": 7,
   "metadata": {},
   "outputs": [
    {
     "name": "stdout",
     "output_type": "stream",
     "text": [
      "          0         1         2         3         4         5\n",
      "0  0.777215  0.799728  0.821925  0.801391  0.781688  0.754378\n",
      "1  0.997908  0.993724  0.987451  0.995816       NaN       NaN\n"
     ]
    }
   ],
   "source": [
    "filename=os.listdir('./Step4_RTC_PPO_noGI/PPO/Results/')\n",
    "results=[]\n",
    "for it in ['RSH','RR']:\n",
    "    if it == 'RSH':\n",
    "        ls=[0,1,2,3,4,5]\n",
    "    elif it == 'RR':\n",
    "        ls=[0,1,2,3]\n",
    "    \n",
    "    rpts = [np.load('./Step4_RTC_PPO/PPO/Results/'+it+'/'+str(i)+'.npy',allow_pickle=True).tolist() for i in ls]\n",
    "    #FC\n",
    "    #tem=[]\n",
    "    #for rpt in rpts:\n",
    "    #    tem.append((rpt['F'][-1]+rpt['C'][-1])/1000)\n",
    "    #results.append(tem)\n",
    "    #Res\n",
    "    tem=[]\n",
    "    for rpt in rpts:\n",
    "        tem.append(np.mean(rpt['RES']))\n",
    "    results.append(tem)\n",
    "\n",
    "dresults=pd.DataFrame(results)       \n",
    "print(dresults)\n",
    "dresults.to_csv('table_Section33.csv')"
   ]
  }
 ],
 "metadata": {
  "kernelspec": {
   "display_name": "base",
   "language": "python",
   "name": "python3"
  },
  "language_info": {
   "codemirror_mode": {
    "name": "ipython",
    "version": 3
   },
   "file_extension": ".py",
   "mimetype": "text/x-python",
   "name": "python",
   "nbconvert_exporter": "python",
   "pygments_lexer": "ipython3",
   "version": "3.9.13"
  },
  "orig_nbformat": 4,
  "vscode": {
   "interpreter": {
    "hash": "7bdfec4e4745230aa72b6b3b9f6cf04179ed160966ad1f3d6706347769a5dbdb"
   }
  }
 },
 "nbformat": 4,
 "nbformat_minor": 2
}
