{
 "cells": [
  {
   "cell_type": "code",
   "execution_count": 1,
   "metadata": {},
   "outputs": [
    {
     "name": "stderr",
     "output_type": "stream",
     "text": [
      "e:\\anaconda3\\envs\\tensorflow-cpu\\lib\\site-packages\\tqdm\\auto.py:22: TqdmWarning: IProgress not found. Please update jupyter and ipywidgets. See https://ipywidgets.readthedocs.io/en/stable/user_install.html\n",
      "  from .autonotebook import tqdm as notebook_tqdm\n"
     ]
    }
   ],
   "source": [
    "import pyswmm\n",
    "import numpy as np\n",
    "import pandas as pd\n",
    "from swmm_api import read_out_file\n",
    "from swmm_api import read_out_file\n",
    "from swmm_api import read_rpt_file\n",
    "import matplotlib.pyplot as plt\n",
    "import os"
   ]
  },
  {
   "attachments": {},
   "cell_type": "markdown",
   "metadata": {},
   "source": [
    "# Section 3.1"
   ]
  },
  {
   "attachments": {},
   "cell_type": "markdown",
   "metadata": {},
   "source": [
    "## S1-S6; Rain id: \n",
    "### RSH: 0,1,2,3,4,5   ##0,1,3,4,6,7\n",
    "### RN: 2top: 0,1,2;  3top: 1,2,4\n",
    "### Real: 0,1,2,3"
   ]
  },
  {
   "attachments": {},
   "cell_type": "markdown",
   "metadata": {},
   "source": [
    "### 重新获取inp运行，得到FC、Res、DRes序列"
   ]
  },
  {
   "cell_type": "code",
   "execution_count": 3,
   "metadata": {},
   "outputs": [],
   "source": [
    "filename=os.listdir('./Step3_1_S1-S12/')\n",
    "results=[]\n",
    "for it in ['S1','S2','S3','S4','S5','S6','S7','S8']:\n",
    "    if it == 'S1' or it == 'S3' or it == 'S5' or it == 'S7':\n",
    "        ls=[0,1,2,3,4,5]\n",
    "    elif it == 'S2'  or it == 'S4' or it == 'S6' or it == 'S8':\n",
    "        ls=[0,1,2,3]\n",
    "    \n",
    "    rpts = [np.load('./Step3_1_S1-S12/'+it+'/Results/'+str(i)+'.npy',allow_pickle=True).tolist() for i in ls]\n",
    "    #FC\n",
    "    tem=[]\n",
    "    for rpt in rpts:\n",
    "        tem.append((rpt['F'][-1]+rpt['C'][-1])/1000)\n",
    "    results.append(tem)\n",
    "    #Res\n",
    "    tem=[]\n",
    "    for rpt in rpts:\n",
    "        tem.append(np.sum(rpt['RES'])/(480/5))\n",
    "    results.append(tem)\n",
    "    #DRes\n",
    "    tem=[]\n",
    "    for rpt in rpts:\n",
    "        tem.append(np.sum(rpt['DRES'])/(480/5))\n",
    "    results.append(tem)\n",
    "\n",
    "dresults=pd.DataFrame(results)       \n",
    "dresults.to_csv('table_Section31.csv')"
   ]
  },
  {
   "attachments": {},
   "cell_type": "markdown",
   "metadata": {},
   "source": [
    "# Section 3.2"
   ]
  },
  {
   "cell_type": "code",
   "execution_count": 4,
   "metadata": {},
   "outputs": [],
   "source": [
    "filename=os.listdir('./Step3_1_S1-S12/')\n",
    "results=[]\n",
    "for it in ['S10','S11','S12']:\n",
    "    if it == 'S1' or it == 'S10':\n",
    "        ls=[0,1,2,3,4,5]\n",
    "    elif it == 'S2' or it == 'S11':\n",
    "        ls=[0,1,2,4,5,7]\n",
    "    elif it == 'S3' or it == 'S12':\n",
    "        ls=[0,1,2,3]\n",
    "    \n",
    "    rpts = [np.load('./Step3_1_S1-S12/'+it+'/Results/'+str(i)+'.npy',allow_pickle=True).tolist() for i in ls]\n",
    "    #FC\n",
    "    tem=[]\n",
    "    for rpt in rpts:\n",
    "        tem.append((rpt['F'][-1]+rpt['C'][-1])/1000)\n",
    "    results.append(tem)\n",
    "    #Res\n",
    "    tem=[]\n",
    "    for rpt in rpts:\n",
    "        tem.append(np.sum(rpt['RES'])/(480/5))\n",
    "    results.append(tem)\n",
    "    #DRes\n",
    "    tem=[]\n",
    "    for rpt in rpts:\n",
    "        tem.append(np.sum(rpt['DRES'])/(480/5))\n",
    "    results.append(tem)\n",
    "\n",
    "'''\n",
    "for it in ['S13','S14','S15']:\n",
    "    if it == 'S13':\n",
    "        ls=[0,1,3,4,6,7]\n",
    "    elif it == 'S14':\n",
    "        ls=[0,1,2,4,5,7]\n",
    "    elif it == 'S15':\n",
    "        ls=[0,1,2,3]\n",
    "    \n",
    "    rpts = [np.load('./Step4_1_S13-S15/'+it+'/'+str(i)+'.npy',allow_pickle=True).tolist() for i in ls]\n",
    "    #FC\n",
    "    tem=[]\n",
    "    for rpt in rpts:\n",
    "        tem.append((rpt['F'][-1]+rpt['C'][-1])/1000)\n",
    "    results.append(tem)\n",
    "    #Res\n",
    "    tem=[]\n",
    "    for rpt in rpts:\n",
    "        tem.append(np.sum(rpt['RES'])/(480/5))\n",
    "    results.append(tem)\n",
    "    #DRes\n",
    "    tem=[]\n",
    "    for rpt in rpts:\n",
    "        tem.append(np.sum(rpt['DRES'])/(480/5))\n",
    "    results.append(tem)\n",
    "'''\n",
    "dresults=pd.DataFrame(results)       \n",
    "dresults.to_csv('table_Section32.csv')"
   ]
  }
 ],
 "metadata": {
  "kernelspec": {
   "display_name": "base",
   "language": "python",
   "name": "python3"
  },
  "language_info": {
   "codemirror_mode": {
    "name": "ipython",
    "version": 3
   },
   "file_extension": ".py",
   "mimetype": "text/x-python",
   "name": "python",
   "nbconvert_exporter": "python",
   "pygments_lexer": "ipython3",
   "version": "3.9.13"
  },
  "orig_nbformat": 4,
  "vscode": {
   "interpreter": {
    "hash": "7bdfec4e4745230aa72b6b3b9f6cf04179ed160966ad1f3d6706347769a5dbdb"
   }
  }
 },
 "nbformat": 4,
 "nbformat_minor": 2
}
