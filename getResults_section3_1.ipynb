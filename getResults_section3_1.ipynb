{
 "cells": [
  {
   "cell_type": "code",
   "execution_count": 1,
   "metadata": {},
   "outputs": [
    {
     "name": "stderr",
     "output_type": "stream",
     "text": [
      "e:\\anaconda3\\envs\\tensorflow-cpu\\lib\\site-packages\\tqdm\\auto.py:22: TqdmWarning: IProgress not found. Please update jupyter and ipywidgets. See https://ipywidgets.readthedocs.io/en/stable/user_install.html\n",
      "  from .autonotebook import tqdm as notebook_tqdm\n"
     ]
    }
   ],
   "source": [
    "import pyswmm\n",
    "import numpy as np\n",
    "import pandas as pd\n",
    "from swmm_api import read_out_file\n",
    "from swmm_api import read_out_file\n",
    "from swmm_api import read_rpt_file\n",
    "import matplotlib.pyplot as plt\n",
    "import os"
   ]
  },
  {
   "attachments": {},
   "cell_type": "markdown",
   "metadata": {},
   "source": [
    "# Section 3.1"
   ]
  },
  {
   "attachments": {},
   "cell_type": "markdown",
   "metadata": {},
   "source": [
    "## S1-S6; Rain id: \n",
    "### RSH: 0,1,2,3,4,5   ##0,1,3,4,6,7\n",
    "### RN: 2top: 0,1,2;  3top: 1,2,4\n",
    "### Real: 0,1,2,3"
   ]
  },
  {
   "attachments": {},
   "cell_type": "markdown",
   "metadata": {},
   "source": [
    "### 重新获取inp运行，得到FC、Res、DRes序列"
   ]
  },
  {
   "cell_type": "code",
   "execution_count": 2,
   "metadata": {},
   "outputs": [
    {
     "name": "stdout",
     "output_type": "stream",
     "text": [
      "          0         1         2         3         4         5\n",
      "0  0.689870  0.711104  0.640567  0.603890  0.593837  0.588920\n",
      "1  0.697707  0.777068  0.708030  0.738730       NaN       NaN\n",
      "2  0.720236  0.751260  0.670759  0.634203  0.603404  0.595553\n",
      "3  0.738461  0.769702  0.749305  0.757186       NaN       NaN\n",
      "4  0.746615  0.752971  0.705968  0.669907  0.662357  0.650150\n",
      "5  0.733898  0.782317  0.731604  0.744282       NaN       NaN\n",
      "6  0.778205  0.779152  0.726312  0.689582  0.676715  0.658478\n",
      "7  0.769150  0.751670  0.783305  0.780024       NaN       NaN\n"
     ]
    }
   ],
   "source": [
    "filename=os.listdir('./Step3_1_S1-S8/')\n",
    "results=[]\n",
    "for it in ['S1','S2','S3','S4','S5','S6','S7','S8']:\n",
    "    if it == 'S1' or it == 'S3' or it == 'S5' or it == 'S7':\n",
    "        ls=[0,1,2,3,4,5]\n",
    "    elif it == 'S2'  or it == 'S4' or it == 'S6' or it == 'S8':\n",
    "        ls=[0,1,2,3]\n",
    "    \n",
    "    rpts = [np.load('./Step3_1_S1-S8/'+it+'/Results/'+str(i)+'.npy',allow_pickle=True).tolist() for i in ls]\n",
    "    #FC\n",
    "    #tem=[]\n",
    "    #for rpt in rpts:\n",
    "    #    tem.append((rpt['F'][-1]+rpt['C'][-1])/1000)\n",
    "    #results.append(tem)\n",
    "    #Res\n",
    "    tem=[]\n",
    "    for rpt in rpts:\n",
    "        tem.append(np.mean(rpt['RES']))\n",
    "    results.append(tem)\n",
    "\n",
    "dresults1=pd.DataFrame(results)       \n",
    "dresults1.to_csv('table_Section31.csv')\n",
    "print(dresults1)"
   ]
  },
  {
   "cell_type": "code",
   "execution_count": 13,
   "metadata": {},
   "outputs": [
    {
     "name": "stdout",
     "output_type": "stream",
     "text": [
      "              0             1             2             3             4  \\\n",
      "0  16383.616693  16436.142985  21344.545472  31965.609510  32618.588212   \n",
      "1  20681.605261  14320.195073  23029.612297  19187.184803           NaN   \n",
      "2  12881.182141  12751.615144  23149.441957  42007.207712  42440.917430   \n",
      "3  16910.873649  11879.460702  18898.545872  15735.310166           NaN   \n",
      "4  14651.166639  14441.807208  26743.587259  45849.382445  46208.682530   \n",
      "5  20001.043660  13335.040843  22378.641906  18492.543174           NaN   \n",
      "6  11908.535383  11760.605365  22320.457615  41301.231025  41725.472208   \n",
      "7  16163.125562  10681.748569  18137.046447  14930.207093           NaN   \n",
      "\n",
      "              5  \n",
      "0  43126.680202  \n",
      "1           NaN  \n",
      "2  58026.051520  \n",
      "3           NaN  \n",
      "4  61964.696698  \n",
      "5           NaN  \n",
      "6  57391.074385  \n",
      "7           NaN  \n"
     ]
    }
   ],
   "source": [
    "filename=os.listdir('./Step3_1_S1-S8/')\n",
    "results=[]\n",
    "for it in ['S1','S2','S3','S4','S5','S6','S7','S8']:\n",
    "    if it == 'S1' or it == 'S3' or it == 'S5' or it == 'S7':\n",
    "        ls=[0,1,2,3,4,5]\n",
    "    elif it == 'S2'  or it == 'S4' or it == 'S6' or it == 'S8':\n",
    "        ls=[0,1,2,3]\n",
    "    \n",
    "    rpts = [np.load('./Step3_1_S1-S8/'+it+'/Results/'+str(i)+'.npy',allow_pickle=True).tolist() for i in ls]\n",
    "    #FC\n",
    "    #tem=[]\n",
    "    #for rpt in rpts:\n",
    "    #    tem.append((rpt['F'][-1]+rpt['C'][-1])/1000)\n",
    "    #results.append(tem)\n",
    "    #Res\n",
    "    tem=[]\n",
    "    for rpt in rpts:\n",
    "        tem.append(np.mean(rpt['F']+rpt['C']))\n",
    "    results.append(tem)\n",
    "\n",
    "dresults1=pd.DataFrame(results)       \n",
    "dresults1.to_csv('table_Section31.csv')\n",
    "print(dresults1)"
   ]
  },
  {
   "attachments": {},
   "cell_type": "markdown",
   "metadata": {},
   "source": [
    "# Section 3.2"
   ]
  },
  {
   "cell_type": "code",
   "execution_count": 3,
   "metadata": {},
   "outputs": [
    {
     "name": "stdout",
     "output_type": "stream",
     "text": [
      "          0         1         2         3         4         5\n",
      "0  0.781347  0.810829  0.791446  0.751242  0.730268  0.710462\n",
      "1  0.811971  0.979368  0.791243  0.863990       NaN       NaN\n"
     ]
    }
   ],
   "source": [
    "filename=os.listdir('./Step4_RTC_DDQN/DDQN/Results/')\n",
    "results=[]\n",
    "for it in ['RSH','RR']:\n",
    "    if it == 'RSH':\n",
    "        ls=[0,1,2,3,4,5]\n",
    "    elif it == 'RR':\n",
    "        ls=[0,1,2,3]\n",
    "    \n",
    "    rpts = [np.load('./Step4_RTC_DDQN/DDQN/Results/'+it+'/'+str(i)+'.npy',allow_pickle=True).tolist() for i in ls]\n",
    "    #FC\n",
    "    tem=[]\n",
    "    #for rpt in rpts:\n",
    "    #    tem.append((rpt['F'][-1]+rpt['C'][-1])/1000)\n",
    "    #results.append(tem)\n",
    "    #Res\n",
    "    tem=[]\n",
    "    for rpt in rpts:\n",
    "        tem.append(np.mean(rpt['RES']))\n",
    "    results.append(tem)\n",
    "\n",
    "dresults=pd.DataFrame(results)       \n",
    "print(dresults)\n",
    "dresults.to_csv('table_Section32.csv')"
   ]
  },
  {
   "cell_type": "code",
   "execution_count": 4,
   "metadata": {},
   "outputs": [
    {
     "name": "stdout",
     "output_type": "stream",
     "text": [
      "          0         1         2         3         4         5\n",
      "0  0.781347  0.810829  0.791446  0.751242  0.730268  0.710462\n",
      "1  0.811971  0.979368  0.791243  0.863990       NaN       NaN\n"
     ]
    }
   ],
   "source": [
    "filename=os.listdir('./Step4_RTC_DDQN_noGI/DDQN/Results/')\n",
    "results=[]\n",
    "for it in ['RSH','RR']:\n",
    "    if it == 'RSH':\n",
    "        ls=[0,1,2,3,4,5]\n",
    "    elif it == 'RR':\n",
    "        ls=[0,1,2,3]\n",
    "    \n",
    "    rpts = [np.load('./Step4_RTC_DDQN/DDQN/Results/'+it+'/'+str(i)+'.npy',allow_pickle=True).tolist() for i in ls]\n",
    "    #FC\n",
    "    tem=[]\n",
    "    #for rpt in rpts:\n",
    "    #    tem.append((rpt['F'][-1]+rpt['C'][-1])/1000)\n",
    "    #results.append(tem)\n",
    "    #Res\n",
    "    tem=[]\n",
    "    for rpt in rpts:\n",
    "        tem.append(np.mean(rpt['RES']))\n",
    "    results.append(tem)\n",
    "\n",
    "dresults=pd.DataFrame(results)       \n",
    "print(dresults)\n",
    "dresults.to_csv('table_Section32.csv')"
   ]
  },
  {
   "cell_type": "code",
   "execution_count": 5,
   "metadata": {},
   "outputs": [
    {
     "name": "stdout",
     "output_type": "stream",
     "text": [
      "          0         1         2         3         4         5\n",
      "0  0.781305  0.804548  0.806242  0.806404  0.783255  0.780773\n",
      "1  0.923753  0.932085  0.885335  0.948032       NaN       NaN\n"
     ]
    }
   ],
   "source": [
    "filename=os.listdir('./Step4_RTC_PPO/PPO/Results/')\n",
    "results=[]\n",
    "for it in ['RSH','RR']:\n",
    "    if it == 'RSH':\n",
    "        ls=[0,1,2,3,4,5]\n",
    "    elif it == 'RR':\n",
    "        ls=[0,1,2,3]\n",
    "    \n",
    "    rpts = [np.load('./Step4_RTC_PPO/PPO/Results/'+it+'/'+str(i)+'.npy',allow_pickle=True).tolist() for i in ls]\n",
    "    #FC\n",
    "    #tem=[]\n",
    "    #for rpt in rpts:\n",
    "    #    tem.append((rpt['F'][-1]+rpt['C'][-1])/1000)\n",
    "    #results.append(tem)\n",
    "    #Res\n",
    "    tem=[]\n",
    "    for rpt in rpts:\n",
    "        tem.append(np.mean(rpt['RES']))\n",
    "    results.append(tem)\n",
    "\n",
    "dresults=pd.DataFrame(results)       \n",
    "print(dresults)\n",
    "dresults.to_csv('table_Section33.csv')"
   ]
  },
  {
   "cell_type": "code",
   "execution_count": 6,
   "metadata": {},
   "outputs": [
    {
     "name": "stdout",
     "output_type": "stream",
     "text": [
      "          0         1         2         3         4         5\n",
      "0  0.781305  0.804548  0.806242  0.806404  0.783255  0.780773\n",
      "1  0.923753  0.932085  0.885335  0.948032       NaN       NaN\n"
     ]
    }
   ],
   "source": [
    "filename=os.listdir('./Step4_RTC_PPO_noGI/PPO/Results/')\n",
    "results=[]\n",
    "for it in ['RSH','RR']:\n",
    "    if it == 'RSH':\n",
    "        ls=[0,1,2,3,4,5]\n",
    "    elif it == 'RR':\n",
    "        ls=[0,1,2,3]\n",
    "    \n",
    "    rpts = [np.load('./Step4_RTC_PPO/PPO/Results/'+it+'/'+str(i)+'.npy',allow_pickle=True).tolist() for i in ls]\n",
    "    #FC\n",
    "    #tem=[]\n",
    "    #for rpt in rpts:\n",
    "    #    tem.append((rpt['F'][-1]+rpt['C'][-1])/1000)\n",
    "    #results.append(tem)\n",
    "    #Res\n",
    "    tem=[]\n",
    "    for rpt in rpts:\n",
    "        tem.append(np.mean(rpt['RES']))\n",
    "    results.append(tem)\n",
    "\n",
    "dresults=pd.DataFrame(results)       \n",
    "print(dresults)\n",
    "dresults.to_csv('table_Section33.csv')"
   ]
  }
 ],
 "metadata": {
  "kernelspec": {
   "display_name": "base",
   "language": "python",
   "name": "python3"
  },
  "language_info": {
   "codemirror_mode": {
    "name": "ipython",
    "version": 3
   },
   "file_extension": ".py",
   "mimetype": "text/x-python",
   "name": "python",
   "nbconvert_exporter": "python",
   "pygments_lexer": "ipython3",
   "version": "3.9.13"
  },
  "orig_nbformat": 4,
  "vscode": {
   "interpreter": {
    "hash": "7bdfec4e4745230aa72b6b3b9f6cf04179ed160966ad1f3d6706347769a5dbdb"
   }
  }
 },
 "nbformat": 4,
 "nbformat_minor": 2
}
