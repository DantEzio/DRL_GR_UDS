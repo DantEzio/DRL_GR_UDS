{
 "cells": [
  {
   "cell_type": "code",
   "execution_count": 1,
   "metadata": {},
   "outputs": [
    {
     "name": "stderr",
     "output_type": "stream",
     "text": [
      "e:\\anaconda3\\envs\\tensorflow-cpu\\lib\\site-packages\\tqdm\\auto.py:22: TqdmWarning: IProgress not found. Please update jupyter and ipywidgets. See https://ipywidgets.readthedocs.io/en/stable/user_install.html\n",
      "  from .autonotebook import tqdm as notebook_tqdm\n"
     ]
    }
   ],
   "source": [
    "import pyswmm\n",
    "import numpy as np\n",
    "import pandas as pd\n",
    "from swmm_api import read_out_file\n",
    "from swmm_api import read_out_file\n",
    "from swmm_api import read_rpt_file\n",
    "import matplotlib.pyplot as plt\n",
    "import os"
   ]
  },
  {
   "attachments": {},
   "cell_type": "markdown",
   "metadata": {},
   "source": [
    "## RSH: 0,1,2,3,4,5   ##0,1,3,4,6,7\n",
    "## Real: 0,1,2,3"
   ]
  },
  {
   "cell_type": "code",
   "execution_count": 2,
   "metadata": {},
   "outputs": [],
   "source": [
    "# 读取顺序\n",
    "results={}\n",
    "#For RSH\n",
    "tem={\n",
    "            'Do'+'\\n'+'nothing': [np.load('./Step3_1_S1-S8/S12/Results/RSH/'+str(i)+'.npy',allow_pickle=True).tolist() for i in range(6)],\n",
    "            'HC': [np.load('./Step3_1_S1-S8/S56_HC/HC/Results/RSH/'+str(i)+'.npy',allow_pickle=True).tolist() for i in range(6)],\n",
    "            'DDQN': [np.load('./Step4_RTC_DDQN_noGI/DDQN/Results/RSH/'+str(i)+'.npy',allow_pickle=True).tolist() for i in range(6)],\n",
    "            'PPO': [np.load('./Step4_RTC_PPO_noGI/PPO/Results/RSH/'+str(i)+'.npy',allow_pickle=True).tolist() for i in range(6)],\n",
    "            'GR': [np.load('./Step3_1_S1-S8/S34_GR/HC/Results/RSH/'+str(i)+'.npy',allow_pickle=True).tolist() for i in range(6)],\n",
    "            'GR'+'\\n'+'and'+'\\n'+'HC': [np.load('./Step3_1_S1-S8/S78_GRHC/HC/Results/RSH/'+str(i)+'.npy',allow_pickle=True).tolist() for i in range(6)],\n",
    "            'GR'+'\\n'+'and'+'\\n'+'DDQN': [np.load('./Step4_RTC_DDQN/DDQN/Results/RSH/'+str(i)+'.npy',allow_pickle=True).tolist() for i in range(6)],\n",
    "            'GR'+'\\n'+'and'+'\\n'+'PPO': [np.load('./Step4_RTC_PPO/PPO/Results/RSH/'+str(i)+'.npy',allow_pickle=True).tolist() for i in range(6)],\n",
    "    }\n",
    "results['RSH']=tem\n",
    "\n",
    "#For RR\n",
    "tem={\n",
    "            'Do'+'\\n'+'nothing': [np.load('./Step3_1_S1-S8/S12/HC/Results/RR/'+str(i)+'.npy',allow_pickle=True).tolist() for i in range(4)],\n",
    "            'HC': [np.load('./Step3_1_S1-S8/S56_HC/HC/Results/RR/'+str(i)+'.npy',allow_pickle=True).tolist() for i in range(4)],\n",
    "            'DDQN': [np.load('./Step4_RTC_DDQN_noGI/DDQN/Results/RR/'+str(i)+'.npy',allow_pickle=True).tolist() for i in range(4)],\n",
    "            'PPO': [np.load('./Step4_RTC_PPO_noGI/PPO/Results/RR/'+str(i)+'.npy',allow_pickle=True).tolist() for i in range(4)],\n",
    "            'GR': [np.load('./Step3_1_S1-S8/S34_GR/HC/Results/RR/'+str(i)+'.npy',allow_pickle=True).tolist() for i in range(4)],\n",
    "            'GR'+'\\n'+'and'+'\\n'+'HC': [np.load('./Step3_1_S1-S8/S78_GRHC/HC/Results/RR/'+str(i)+'.npy',allow_pickle=True).tolist() for i in range(4)],\n",
    "            'GR'+'\\n'+'and'+'\\n'+'DDQN': [np.load('./Step4_RTC_DDQN/DDQN/Results/RR/'+str(i)+'.npy',allow_pickle=True).tolist() for i in range(4)],\n",
    "            'GR'+'\\n'+'and'+'\\n'+'PPO': [np.load('./Step4_RTC_PPO/PPO/Results/RR/'+str(i)+'.npy',allow_pickle=True).tolist() for i in range(4)],\n",
    "}\n",
    "results['RR']=tem"
   ]
  },
  {
   "cell_type": "code",
   "execution_count": 3,
   "metadata": {},
   "outputs": [],
   "source": [
    "re={}\n",
    "for item in results['RSH'].keys():#['Do'+'\\n'+'nothing','GR','HC','DDQN','PPO']\n",
    "    tem=[]\n",
    "    for rain in range(6):\n",
    "        rpt=results['RSH'][item][rain]\n",
    "        for jt in range(2):\n",
    "            rpt['RES'][jt]=1.0\n",
    "        tem += [np.mean(rpt['RES'])]\n",
    "    re[item]=tem\n",
    "pd.DataFrame(re).to_csv('./Tables/RSH_RES_res.csv')\n",
    "\n",
    "\n",
    "re={}\n",
    "for item in results['RR'].keys():#['Do'+'\\n'+'nothing','GR','HC','DDQN','PPO']\n",
    "    tem=[]\n",
    "    for rain in range(4):\n",
    "        rpt=results['RR'][item][rain]\n",
    "        for jt in range(2):\n",
    "            rpt['RES'][jt]=1.0\n",
    "        tem += [np.mean(rpt['RES'])]\n",
    "    re[item]=tem\n",
    "pd.DataFrame(re).to_csv('./Tables/RR_RES_res.csv')\n"
   ]
  },
  {
   "cell_type": "code",
   "execution_count": 7,
   "metadata": {},
   "outputs": [],
   "source": [
    "re={}\n",
    "for item in results['RSH'].keys():#['Do'+'\\n'+'nothing','GR','HC','DDQN','PPO']\n",
    "    tem=[]\n",
    "    for rain in range(6):\n",
    "        rpt=results['RSH'][item][rain]\n",
    "        tem += [rpt['F'][-1]+rpt['C'][-1]]\n",
    "    re[item]=tem\n",
    "pd.DataFrame(re).to_csv('./Tables/RSH_fc.csv')\n",
    "\n",
    "\n",
    "re={}\n",
    "for item in results['RR'].keys():#['Do'+'\\n'+'nothing','GR','HC','DDQN','PPO']\n",
    "    tem=[]\n",
    "    for rain in range(4):\n",
    "        rpt=results['RR'][item][rain]\n",
    "        tem += [rpt['F'][-1]+rpt['C'][-1]]\n",
    "    re[item]=tem\n",
    "pd.DataFrame(re).to_csv('./Tables/RR_fc.csv')\n",
    "\n"
   ]
  }
 ],
 "metadata": {
  "kernelspec": {
   "display_name": "base",
   "language": "python",
   "name": "python3"
  },
  "language_info": {
   "codemirror_mode": {
    "name": "ipython",
    "version": 3
   },
   "file_extension": ".py",
   "mimetype": "text/x-python",
   "name": "python",
   "nbconvert_exporter": "python",
   "pygments_lexer": "ipython3",
   "version": "3.9.13"
  },
  "orig_nbformat": 4,
  "vscode": {
   "interpreter": {
    "hash": "7bdfec4e4745230aa72b6b3b9f6cf04179ed160966ad1f3d6706347769a5dbdb"
   }
  }
 },
 "nbformat": 4,
 "nbformat_minor": 2
}
