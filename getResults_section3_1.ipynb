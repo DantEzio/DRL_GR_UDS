{
 "cells": [
  {
   "cell_type": "code",
   "execution_count": 1,
   "metadata": {},
   "outputs": [
    {
     "name": "stderr",
     "output_type": "stream",
     "text": [
      "e:\\anaconda3\\envs\\tensorflow-cpu\\lib\\site-packages\\tqdm\\auto.py:22: TqdmWarning: IProgress not found. Please update jupyter and ipywidgets. See https://ipywidgets.readthedocs.io/en/stable/user_install.html\n",
      "  from .autonotebook import tqdm as notebook_tqdm\n"
     ]
    }
   ],
   "source": [
    "import pyswmm\n",
    "import numpy as np\n",
    "import pandas as pd\n",
    "from swmm_api import read_out_file\n",
    "from swmm_api import read_out_file\n",
    "from swmm_api import read_rpt_file\n",
    "import matplotlib.pyplot as plt\n",
    "import os"
   ]
  },
  {
   "attachments": {},
   "cell_type": "markdown",
   "metadata": {},
   "source": [
    "# Section 3.1"
   ]
  },
  {
   "attachments": {},
   "cell_type": "markdown",
   "metadata": {},
   "source": [
    "## S1-S6; Rain id: \n",
    "### RSH: 0,1,2,3,4,5   ##0,1,3,4,6,7\n",
    "### RN: 2top: 0,1,2;  3top: 1,2,4\n",
    "### Real: 0,1,2,3"
   ]
  },
  {
   "attachments": {},
   "cell_type": "markdown",
   "metadata": {},
   "source": [
    "### 重新获取inp运行，得到FC、Res、DRes序列"
   ]
  },
  {
   "cell_type": "code",
   "execution_count": 7,
   "metadata": {},
   "outputs": [
    {
     "name": "stdout",
     "output_type": "stream",
     "text": [
      "            0          1          2          3          4           5\n",
      "0   12.255890  12.121137  42.913789  42.547712  75.470457   96.529267\n",
      "1    0.847539   0.835817   0.673067   0.654306   0.626974    0.600377\n",
      "2    4.530110   3.981011   4.835705   4.436986        NaN         NaN\n",
      "3    0.927169   0.916836   0.844169   0.927214        NaN         NaN\n",
      "4    9.335957   9.213885  38.546289  38.374257  63.524587   90.133097\n",
      "5    0.854758   0.813269   0.708599   0.692214   0.656206    0.640055\n",
      "6    4.037141   3.566483   4.089655   3.973885        NaN         NaN\n",
      "7    0.906518   0.927180   0.875262   0.927171        NaN         NaN\n",
      "8    8.545482   8.319252  44.756655  44.567301  73.723907  101.534125\n",
      "9    0.804828   0.805213   0.729421   0.725652   0.685124    0.671965\n",
      "10   0.942861   0.857150   0.966191   0.926334        NaN         NaN\n",
      "11   0.976581   0.983121   0.975382   0.976942        NaN         NaN\n",
      "12   6.859170   6.504791  36.407093  36.226684  61.743238   88.471299\n",
      "13   0.839085   0.830166   0.755310   0.753779   0.706245    0.683666\n",
      "14   0.882628   0.843805   0.901476   0.858737        NaN         NaN\n",
      "15   0.979998   0.982906   0.979548   0.980634        NaN         NaN\n"
     ]
    }
   ],
   "source": [
    "filename=os.listdir('./Step3_1_S1-S8/')\n",
    "results=[]\n",
    "for it in ['S1','S2','S3','S4','S5','S6','S7','S8']:\n",
    "    if it == 'S1' or it == 'S3' or it == 'S5' or it == 'S7':\n",
    "        ls=[0,1,2,3,4,5]\n",
    "    elif it == 'S2'  or it == 'S4' or it == 'S6' or it == 'S8':\n",
    "        ls=[0,1,2,3]\n",
    "    \n",
    "    rpts = [np.load('./Step3_1_S1-S8/'+it+'/Results/'+str(i)+'.npy',allow_pickle=True).tolist() for i in ls]\n",
    "    #FC\n",
    "    tem=[]\n",
    "    for rpt in rpts:\n",
    "        tem.append((rpt['F'][-1]+rpt['C'][-1])/1000)\n",
    "    results.append(tem)\n",
    "    #Res\n",
    "    tem=[]\n",
    "    for rpt in rpts:\n",
    "        tem.append(np.sum(rpt['RES'])/(480/5))\n",
    "    results.append(tem)\n",
    "\n",
    "dresults1=pd.DataFrame(results)       \n",
    "dresults1.to_csv('table_Section31.csv')\n",
    "print(dresults1)"
   ]
  },
  {
   "attachments": {},
   "cell_type": "markdown",
   "metadata": {},
   "source": [
    "# Section 3.2"
   ]
  },
  {
   "cell_type": "code",
   "execution_count": 12,
   "metadata": {},
   "outputs": [
    {
     "name": "stdout",
     "output_type": "stream",
     "text": [
      "          0         1          2          3          4          5\n",
      "0  6.034025  6.024555  31.184318  30.928882  60.077847  80.824878\n",
      "1  0.840864  0.805131   0.758943   0.714412   0.711287   0.683466\n",
      "2  0.770716  0.737671   0.774216   0.604592        NaN        NaN\n",
      "3  0.917985  0.930587   0.929285   0.920618        NaN        NaN\n"
     ]
    }
   ],
   "source": [
    "filename=os.listdir('./Step4_RTC/PPO/Results/')\n",
    "results=[]\n",
    "for it in ['RSH','RR']:\n",
    "    if it == 'RSH':\n",
    "        ls=[0,1,2,3,4,5]\n",
    "    elif it == 'RR':\n",
    "        ls=[0,1,2,3]\n",
    "    \n",
    "    rpts = [np.load('./Step4_RTC/PPO/Results/'+it+'/'+str(i)+'.npy',allow_pickle=True).tolist() for i in ls]\n",
    "    #FC\n",
    "    tem=[]\n",
    "    for rpt in rpts:\n",
    "        tem.append((rpt['F'][-1]+rpt['C'][-1])/1000)\n",
    "    results.append(tem)\n",
    "    #Res\n",
    "    tem=[]\n",
    "    for rpt in rpts:\n",
    "        tem.append(np.sum(rpt['RES'])/(480/5))\n",
    "    results.append(tem)\n",
    "\n",
    "dresults=pd.DataFrame(results)       \n",
    "print(dresults)\n",
    "dresults.to_csv('table_Section32.csv')"
   ]
  },
  {
   "cell_type": "code",
   "execution_count": 14,
   "metadata": {},
   "outputs": [
    {
     "name": "stdout",
     "output_type": "stream",
     "text": [
      "          0         1          2          3          4          5\n",
      "0  6.222475  6.117630  31.325742  30.684467  59.998090  80.824543\n",
      "1  0.833426  0.781028   0.760504   0.720211   0.716558   0.698443\n",
      "2  0.799730  0.694837   0.880044   0.893897        NaN        NaN\n",
      "3  0.932151  0.944880   0.943713   0.970659        NaN        NaN\n"
     ]
    }
   ],
   "source": [
    "filename=os.listdir('./Step4_RTC/PPO/Results/')\n",
    "results=[]\n",
    "for it in ['RSH','RR']:\n",
    "    if it == 'RSH':\n",
    "        ls=[0,1,2,3,4,5]\n",
    "    elif it == 'RR':\n",
    "        ls=[0,1,2,3]\n",
    "    \n",
    "    rpts = [np.load('./Step4_RTC/PPO/Results/'+it+'/'+str(i)+'.npy',allow_pickle=True).tolist() for i in ls]\n",
    "    #FC\n",
    "    tem=[]\n",
    "    for rpt in rpts:\n",
    "        tem.append((rpt['F'][-1]+rpt['C'][-1])/1000)\n",
    "    results.append(tem)\n",
    "    #Res\n",
    "    tem=[]\n",
    "    for rpt in rpts:\n",
    "        tem.append(np.sum(rpt['RES'])/(480/5))\n",
    "    results.append(tem)\n",
    "\n",
    "dresults=pd.DataFrame(results)       \n",
    "print(dresults)\n",
    "dresults.to_csv('table_Section32.csv')"
   ]
  }
 ],
 "metadata": {
  "kernelspec": {
   "display_name": "base",
   "language": "python",
   "name": "python3"
  },
  "language_info": {
   "codemirror_mode": {
    "name": "ipython",
    "version": 3
   },
   "file_extension": ".py",
   "mimetype": "text/x-python",
   "name": "python",
   "nbconvert_exporter": "python",
   "pygments_lexer": "ipython3",
   "version": "3.9.13"
  },
  "orig_nbformat": 4,
  "vscode": {
   "interpreter": {
    "hash": "7bdfec4e4745230aa72b6b3b9f6cf04179ed160966ad1f3d6706347769a5dbdb"
   }
  }
 },
 "nbformat": 4,
 "nbformat_minor": 2
}
