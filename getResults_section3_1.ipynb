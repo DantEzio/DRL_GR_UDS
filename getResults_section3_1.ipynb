{
 "cells": [
  {
   "cell_type": "code",
   "execution_count": 1,
   "metadata": {},
   "outputs": [
    {
     "name": "stderr",
     "output_type": "stream",
     "text": [
      "e:\\anaconda3\\envs\\tensorflow-cpu\\lib\\site-packages\\tqdm\\auto.py:22: TqdmWarning: IProgress not found. Please update jupyter and ipywidgets. See https://ipywidgets.readthedocs.io/en/stable/user_install.html\n",
      "  from .autonotebook import tqdm as notebook_tqdm\n"
     ]
    }
   ],
   "source": [
    "import pyswmm\n",
    "import numpy as np\n",
    "import pandas as pd\n",
    "from swmm_api import read_out_file\n",
    "from swmm_api import read_out_file\n",
    "from swmm_api import read_rpt_file\n",
    "import matplotlib.pyplot as plt\n",
    "import os"
   ]
  },
  {
   "attachments": {},
   "cell_type": "markdown",
   "metadata": {},
   "source": [
    "# Section 3.1"
   ]
  },
  {
   "attachments": {},
   "cell_type": "markdown",
   "metadata": {},
   "source": [
    "## S1-S6; Rain id: \n",
    "### RSH: 0,1,2,3,4,5   ##0,1,3,4,6,7\n",
    "### RN: 2top: 0,1,2;  3top: 1,2,4\n",
    "### Real: 0,1,2,3"
   ]
  },
  {
   "attachments": {},
   "cell_type": "markdown",
   "metadata": {},
   "source": [
    "### 重新获取inp运行，得到FC、Res、DRes序列"
   ]
  },
  {
   "cell_type": "code",
   "execution_count": 32,
   "metadata": {},
   "outputs": [
    {
     "name": "stdout",
     "output_type": "stream",
     "text": [
      "          0         1         2         3         4         5\n",
      "0  0.753802  0.750313  0.632978  0.641709  0.601733  0.596081\n",
      "1  0.601014  0.607281  0.601710  0.600004       NaN       NaN\n",
      "2  0.777650  0.770843  0.681832  0.677138  0.620271  0.605958\n",
      "3  0.629044  0.672007  0.619494  0.629256       NaN       NaN\n",
      "4  0.800462  0.802452  0.704535  0.689342  0.662145  0.658882\n",
      "5  0.641804  0.653630  0.646963  0.641257       NaN       NaN\n",
      "6  0.824117  0.822959  0.718087  0.716686  0.684299  0.667679\n",
      "7  0.662546  0.677191  0.667856  0.662129       NaN       NaN\n"
     ]
    }
   ],
   "source": [
    "filename=os.listdir('./Step3_1_S1-S8/')\n",
    "results=[]\n",
    "for it in ['S1','S2','S3','S4','S5','S6','S7','S8']:\n",
    "    if it == 'S1' or it == 'S3' or it == 'S5' or it == 'S7':\n",
    "        ls=[0,1,2,3,4,5]\n",
    "    elif it == 'S2'  or it == 'S4' or it == 'S6' or it == 'S8':\n",
    "        ls=[0,1,2,3]\n",
    "    \n",
    "    rpts = [np.load('./Step3_1_S1-S8/'+it+'/Results/'+str(i)+'.npy',allow_pickle=True).tolist() for i in ls]\n",
    "    #FC\n",
    "    #tem=[]\n",
    "    #for rpt in rpts:\n",
    "    #    tem.append((rpt['F'][-1]+rpt['C'][-1])/1000)\n",
    "    #results.append(tem)\n",
    "    #Res\n",
    "    tem=[]\n",
    "    for rpt in rpts:\n",
    "        tem.append(np.mean(rpt['RES']))\n",
    "    results.append(tem)\n",
    "\n",
    "dresults1=pd.DataFrame(results)       \n",
    "dresults1.to_csv('table_Section31.csv')\n",
    "print(dresults1)"
   ]
  },
  {
   "attachments": {},
   "cell_type": "markdown",
   "metadata": {},
   "source": [
    "# Section 3.2"
   ]
  },
  {
   "cell_type": "code",
   "execution_count": 5,
   "metadata": {},
   "outputs": [
    {
     "name": "stdout",
     "output_type": "stream",
     "text": [
      "          0         1         2         3         4        5\n",
      "0  0.865664  0.825327  0.817788  0.804044  0.777917  0.76318\n",
      "1  0.761532  0.752872  0.755092  0.754845       NaN      NaN\n"
     ]
    }
   ],
   "source": [
    "filename=os.listdir('./Step4_RTC_DDQN/DDQN/Results/')\n",
    "results=[]\n",
    "for it in ['RSH','RR']:\n",
    "    if it == 'RSH':\n",
    "        ls=[0,1,2,3,4,5]\n",
    "    elif it == 'RR':\n",
    "        ls=[0,1,2,3]\n",
    "    \n",
    "    rpts = [np.load('./Step4_RTC_DDQN/DDQN/Results/'+it+'/'+str(i)+'.npy',allow_pickle=True).tolist() for i in ls]\n",
    "    #FC\n",
    "    tem=[]\n",
    "    #for rpt in rpts:\n",
    "    #    tem.append((rpt['F'][-1]+rpt['C'][-1])/1000)\n",
    "    #results.append(tem)\n",
    "    #Res\n",
    "    tem=[]\n",
    "    for rpt in rpts:\n",
    "        tem.append(np.mean(rpt['RES']))\n",
    "    results.append(tem)\n",
    "\n",
    "dresults=pd.DataFrame(results)       \n",
    "print(dresults)\n",
    "dresults.to_csv('table_Section32.csv')"
   ]
  },
  {
   "cell_type": "code",
   "execution_count": 4,
   "metadata": {},
   "outputs": [
    {
     "name": "stdout",
     "output_type": "stream",
     "text": [
      "          0         1         2         3         4         5\n",
      "0  0.869031  0.814119  0.805088  0.797420  0.760532  0.753974\n",
      "1  0.752512  0.747812  0.748087  0.754383       NaN       NaN\n"
     ]
    }
   ],
   "source": [
    "filename=os.listdir('./Step4_RTC_PPO/PPO/Results/')\n",
    "results=[]\n",
    "for it in ['RSH','RR']:\n",
    "    if it == 'RSH':\n",
    "        ls=[0,1,2,3,4,5]\n",
    "    elif it == 'RR':\n",
    "        ls=[0,1,2,3]\n",
    "    \n",
    "    rpts = [np.load('./Step4_RTC_PPO/PPO/Results/'+it+'/'+str(i)+'.npy',allow_pickle=True).tolist() for i in ls]\n",
    "    #FC\n",
    "    #tem=[]\n",
    "    #for rpt in rpts:\n",
    "    #    tem.append((rpt['F'][-1]+rpt['C'][-1])/1000)\n",
    "    #results.append(tem)\n",
    "    #Res\n",
    "    tem=[]\n",
    "    for rpt in rpts:\n",
    "        tem.append(np.mean(rpt['RES']))\n",
    "    results.append(tem)\n",
    "\n",
    "dresults=pd.DataFrame(results)       \n",
    "print(dresults)\n",
    "dresults.to_csv('table_Section33.csv')"
   ]
  }
 ],
 "metadata": {
  "kernelspec": {
   "display_name": "base",
   "language": "python",
   "name": "python3"
  },
  "language_info": {
   "codemirror_mode": {
    "name": "ipython",
    "version": 3
   },
   "file_extension": ".py",
   "mimetype": "text/x-python",
   "name": "python",
   "nbconvert_exporter": "python",
   "pygments_lexer": "ipython3",
   "version": "3.9.13"
  },
  "orig_nbformat": 4,
  "vscode": {
   "interpreter": {
    "hash": "7bdfec4e4745230aa72b6b3b9f6cf04179ed160966ad1f3d6706347769a5dbdb"
   }
  }
 },
 "nbformat": 4,
 "nbformat_minor": 2
}
