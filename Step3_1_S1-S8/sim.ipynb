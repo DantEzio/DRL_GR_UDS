{
 "cells": [
  {
   "cell_type": "code",
   "execution_count": 1,
   "id": "b7cd266f",
   "metadata": {},
   "outputs": [
    {
     "name": "stderr",
     "output_type": "stream",
     "text": [
      "e:\\anaconda3\\envs\\tensorflow-cpu\\lib\\site-packages\\tqdm\\auto.py:22: TqdmWarning: IProgress not found. Please update jupyter and ipywidgets. See https://ipywidgets.readthedocs.io/en/stable/user_install.html\n",
      "  from .autonotebook import tqdm as notebook_tqdm\n"
     ]
    }
   ],
   "source": [
    "import pandas as pd\n",
    "from swmm_api.input_file import read_inp_file\n",
    "from swmm_api.input_file.section_labels import *\n",
    "from swmm_api.input_file.sections import *\n",
    "from swmm_api.input_file.helpers import *\n",
    "from swmm_api.input_file.sections.others import TimeseriesData\n",
    "from swmm_api.input_file.section_labels import TIMESERIES\n",
    "import os\n",
    "os.environ['CONDA_DLL_SEARCH_MODIFICATION_ENABLE']=\"1\"\n",
    "import numpy as np\n",
    "import shutil\n",
    "import yaml\n",
    "from pyswmm import Simulation,Links,Nodes,RainGages,SystemStats\n",
    "import matplotlib.pyplot as plt\n",
    "\n",
    "config = yaml.load(open(\"./states_yaml/chaohu.yaml\"), yaml.FullLoader)\n",
    "import step_sim\n",
    "import GI_setting as gs\n",
    "\n",
    "params={\n",
    "    'kf':1,\n",
    "    'kc':1,\n",
    "    'advance_seconds':30,\n",
    "}"
   ]
  },
  {
   "attachments": {},
   "cell_type": "markdown",
   "id": "c56087e2",
   "metadata": {},
   "source": [
    "# S1: RSH"
   ]
  },
  {
   "cell_type": "code",
   "execution_count": 2,
   "id": "6b159e46",
   "metadata": {},
   "outputs": [],
   "source": [
    "raine = np.load('./RSH/east.npy').tolist()\n",
    "rainw = np.load('./RSH/east.npy').tolist()\n",
    "\n",
    "for rainid in range(6):\n",
    "    inp1 = read_inp_file('./S12/chaohu_.inp')\n",
    "    inp1[TIMESERIES]['rainfalle']=TimeseriesData('rainfalle',raine[rainid])\n",
    "    inp1[TIMESERIES]['rainfallw']=TimeseriesData('rainfallw',rainw[rainid])\n",
    "    inp1.write_file('./S12/Results/RSH/chaohu_rain_'+str(rainid)+'.inp')\n",
    "    step_sim.simfile('./S12/Results/RSH/',rainid,config,params)"
   ]
  },
  {
   "attachments": {},
   "cell_type": "markdown",
   "id": "56e2c762-c1d0-47ac-8cfb-4296f608cbd9",
   "metadata": {},
   "source": [
    "# S2: R"
   ]
  },
  {
   "cell_type": "code",
   "execution_count": 3,
   "id": "033d5885-404f-413e-a08d-016ea65889e7",
   "metadata": {},
   "outputs": [],
   "source": [
    "raine = np.load('./RealRain/real.npy').tolist()\n",
    "rainw = np.load('./RealRain/real.npy').tolist()\n",
    "\n",
    "for rainid in range(len(raine)):\n",
    "    inp1 = read_inp_file('./S12/chaohu_.inp') \n",
    "    inp1[TIMESERIES]['rainfalle']=TimeseriesData('rainfalle',raine[rainid])\n",
    "    inp1[TIMESERIES]['rainfallw']=TimeseriesData('rainfallw',rainw[rainid])\n",
    "    inp1.write_file('./S12/Results/RR/chaohu_rain_'+str(rainid)+'.inp')\n",
    "    step_sim.simfile('./S12/Results/RR/',rainid,config,params)"
   ]
  },
  {
   "attachments": {},
   "cell_type": "markdown",
   "id": "9c51e547",
   "metadata": {},
   "source": [
    "# S3: RSH-GR"
   ]
  },
  {
   "cell_type": "code",
   "execution_count": null,
   "id": "96848020",
   "metadata": {},
   "outputs": [],
   "source": [
    "raine = np.load('./RSH/east.npy').tolist()\n",
    "rainw = np.load('./RSH/east.npy').tolist()\n",
    "\n",
    "for rainid in range(6):\n",
    "    inp = read_inp_file('./S34_GR/chaohu_GI.inp')\n",
    "    # GI\n",
    "    #add_GI(inp)\n",
    "    # rain\n",
    "    inp[TIMESERIES]['rainfalle']=TimeseriesData('rainfalle',raine[rainid])\n",
    "    inp[TIMESERIES]['rainfallw']=TimeseriesData('rainfallw',rainw[rainid])\n",
    "    inp.write_file('./S34_GR/Results/RSH/chaohu_rain_'+str(rainid)+'.inp')\n",
    "    step_sim.simfile('./S34_GR/Results/RSH/',rainid,config,params)"
   ]
  },
  {
   "attachments": {},
   "cell_type": "markdown",
   "id": "59ba722d",
   "metadata": {},
   "source": [
    "# S4: R-GR"
   ]
  },
  {
   "cell_type": "code",
   "execution_count": null,
   "id": "7b3661bb",
   "metadata": {},
   "outputs": [],
   "source": [
    "raine = np.load('./RealRain/real.npy').tolist()\n",
    "rainw = np.load('./RealRain/real.npy').tolist()\n",
    "\n",
    "for rainid in range(len(raine)):\n",
    "    inp = read_inp_file('./S34_GR/chaohu_GI.inp')\n",
    "    # GI\n",
    "    #add_GI(inp)\n",
    "    # rain\n",
    "    inp[TIMESERIES]['rainfalle']=TimeseriesData('rainfalle',raine[rainid])\n",
    "    inp[TIMESERIES]['rainfallw']=TimeseriesData('rainfallw',rainw[rainid])\n",
    "    inp.write_file('./S34_GR/Results/RR/chaohu_rain_'+str(rainid)+'.inp')\n",
    "    step_sim.simfile('./S34_GR/Results/RR/',rainid,config,params)"
   ]
  }
 ],
 "metadata": {
  "kernelspec": {
   "display_name": "Python 3",
   "language": "python",
   "name": "python3"
  },
  "language_info": {
   "codemirror_mode": {
    "name": "ipython",
    "version": 3
   },
   "file_extension": ".py",
   "mimetype": "text/x-python",
   "name": "python",
   "nbconvert_exporter": "python",
   "pygments_lexer": "ipython3",
   "version": "3.9.13"
  }
 },
 "nbformat": 4,
 "nbformat_minor": 5
}
