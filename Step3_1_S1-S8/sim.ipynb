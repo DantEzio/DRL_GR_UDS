{
 "cells": [
  {
   "cell_type": "code",
   "execution_count": 12,
   "id": "b7cd266f",
   "metadata": {},
   "outputs": [],
   "source": [
    "import pandas as pd\n",
    "from swmm_api.input_file import read_inp_file\n",
    "from swmm_api.input_file.section_labels import *\n",
    "from swmm_api.input_file.sections import *\n",
    "from swmm_api.input_file.helpers import *\n",
    "from swmm_api.input_file.sections.others import TimeseriesData\n",
    "from swmm_api.input_file.section_labels import TIMESERIES\n",
    "import os\n",
    "os.environ['CONDA_DLL_SEARCH_MODIFICATION_ENABLE']=\"1\"\n",
    "import numpy as np\n",
    "import shutil\n",
    "import yaml\n",
    "from pyswmm import Simulation,Links,Nodes,RainGages,SystemStats\n",
    "import matplotlib.pyplot as plt\n",
    "\n",
    "config = yaml.load(open(\"./states_yaml/chaohu.yaml\"), yaml.FullLoader)\n",
    "import step_sim\n",
    "import GI_setting as gs\n",
    "\n",
    "params={\n",
    "    'kf':1,\n",
    "    'kc':1,\n",
    "}\n",
    "\n",
    "### 获取建筑屋顶面积，设置GI，保存inp\n",
    "def add_GI(inp):\n",
    "    roof=pd.read_csv('polygon.csv')\n",
    "    unit_area=10\n",
    "    for i in range(roof.shape[0]):\n",
    "        number=int(0.5*roof[['roofarea']].iloc[i][0]/unit_area)\n",
    "        #print(roof[['Name']].iloc[i][0],number)\n",
    "        # added line of LID_USAGE\n",
    "        item=gs.LID_setting(roof[['Name']].iloc[i][0],'GreenRoof',number,10,0,0,0,0,'*','*',0)\n",
    "        inp['LID_USAGE'][roof[['Name']].iloc[i][0]]=item"
   ]
  },
  {
   "attachments": {},
   "cell_type": "markdown",
   "id": "c56087e2",
   "metadata": {},
   "source": [
    "# S1: RSH"
   ]
  },
  {
   "cell_type": "code",
   "execution_count": 13,
   "id": "6b159e46",
   "metadata": {},
   "outputs": [],
   "source": [
    "raine = np.load('./RSH/east.npy').tolist()\n",
    "rainw = np.load('./RSH/west.npy').tolist()\n",
    "\n",
    "for rainid in range(6):\n",
    "    inp1 = read_inp_file('./S12/chaohu_.inp')\n",
    "    inp1[TIMESERIES]['rainfalle']=TimeseriesData('rainfalle',raine[rainid])\n",
    "    inp1[TIMESERIES]['rainfallw']=TimeseriesData('rainfallw',rainw[rainid])\n",
    "    inp1.write_file('./S12/Results/RSH/chaohu_rain_'+str(rainid)+'.inp')\n",
    "    step_sim.simfile('./S12/Results/RSH/',rainid,config,params)\n"
   ]
  },
  {
   "attachments": {},
   "cell_type": "markdown",
   "id": "56e2c762-c1d0-47ac-8cfb-4296f608cbd9",
   "metadata": {},
   "source": [
    "# S2: R"
   ]
  },
  {
   "cell_type": "code",
   "execution_count": 14,
   "id": "033d5885-404f-413e-a08d-016ea65889e7",
   "metadata": {},
   "outputs": [],
   "source": [
    "raine = np.load('./RealRain/real.npy').tolist()\n",
    "rainw = np.load('./RealRain/real.npy').tolist()\n",
    "\n",
    "for rainid in range(len(raine)):\n",
    "    inp1 = read_inp_file('./S12/chaohu_.inp') \n",
    "    inp1[TIMESERIES]['rainfalle']=TimeseriesData('rainfalle',raine[rainid])\n",
    "    inp1[TIMESERIES]['rainfallw']=TimeseriesData('rainfallw',rainw[rainid])\n",
    "    inp1.write_file('./S12/Results/RR/chaohu_rain_'+str(rainid)+'.inp')\n",
    "    step_sim.simfile('./S12/Results/RR/',rainid,config,params)"
   ]
  },
  {
   "attachments": {},
   "cell_type": "markdown",
   "id": "9c51e547",
   "metadata": {},
   "source": [
    "# S3: RSH-GR"
   ]
  },
  {
   "cell_type": "code",
   "execution_count": 15,
   "id": "96848020",
   "metadata": {},
   "outputs": [],
   "source": [
    "raine = np.load('./RSH/east.npy').tolist()\n",
    "rainw = np.load('./RSH/west.npy').tolist()\n",
    "\n",
    "for rainid in range(6):\n",
    "    inp = read_inp_file('./S34_GR/chaohu_GI.inp')\n",
    "    # GI\n",
    "    #add_GI(inp)\n",
    "    # rain\n",
    "    inp[TIMESERIES]['rainfalle']=TimeseriesData('rainfalle',raine[rainid])\n",
    "    inp[TIMESERIES]['rainfallw']=TimeseriesData('rainfallw',rainw[rainid])\n",
    "    inp.write_file('./S34_GR/Results/RSH/chaohu_rain_'+str(rainid)+'.inp')\n",
    "    step_sim.simfile('./S34_GR/Results/RSH/',rainid,config,params)"
   ]
  },
  {
   "attachments": {},
   "cell_type": "markdown",
   "id": "59ba722d",
   "metadata": {},
   "source": [
    "# S4: R-GR"
   ]
  },
  {
   "cell_type": "code",
   "execution_count": 17,
   "id": "7b3661bb",
   "metadata": {},
   "outputs": [],
   "source": [
    "raine = np.load('./RealRain/real.npy').tolist()\n",
    "rainw = np.load('./RealRain/real.npy').tolist()\n",
    "\n",
    "for rainid in range(len(raine)):\n",
    "    inp = read_inp_file('./S34_GR/chaohu_GI.inp')\n",
    "    # GI\n",
    "    #add_GI(inp)\n",
    "    # rain\n",
    "    inp[TIMESERIES]['rainfalle']=TimeseriesData('rainfalle',raine[rainid])\n",
    "    inp[TIMESERIES]['rainfallw']=TimeseriesData('rainfallw',rainw[rainid])\n",
    "    inp.write_file('./S34_GR/Results/RR/chaohu_rain_'+str(rainid)+'.inp')\n",
    "    step_sim.simfile('./S34_GR/Results/RR/',rainid,config,params)\n",
    "    "
   ]
  },
  {
   "attachments": {},
   "cell_type": "markdown",
   "id": "08020c20",
   "metadata": {},
   "source": [
    "# S5: RSH-HC"
   ]
  },
  {
   "cell_type": "code",
   "execution_count": 6,
   "id": "5bdd7cd2",
   "metadata": {},
   "outputs": [
    {
     "name": "stdout",
     "output_type": "stream",
     "text": [
      "./S56_HC/Results/RSH/0\n",
      "./S56_HC/Results/RSH/1\n",
      "./S56_HC/Results/RSH/2\n",
      "./S56_HC/Results/RSH/3\n",
      "./S56_HC/Results/RSH/4\n",
      "./S56_HC/Results/RSH/5\n"
     ]
    }
   ],
   "source": [
    "raine = np.load('./RSH/east.npy').tolist()\n",
    "rainw = np.load('./RSH/west.npy').tolist()\n",
    "\n",
    "for rainid in range(6):\n",
    "    inp1 = read_inp_file('./S56_HC/chaohu_RTC.inp')\n",
    "    inp1[TIMESERIES]['rainfalle']=TimeseriesData('rainfalle',raine[rainid])\n",
    "    inp1[TIMESERIES]['rainfallw']=TimeseriesData(' rainfallw',rainw[rainid])\n",
    "    inp1.write_file('./S56_HC/Results/RSH/chaohu_rain_'+str(rainid)+'.inp')\n",
    "    step_sim.simfile('./S56_HC/Results/RSH/'+str(rainid),'./S56_HC/Results/RSH/chaohu_rain_'+str(rainid)+'.inp',rainid,config,params)\n"
   ]
  },
  {
   "attachments": {},
   "cell_type": "markdown",
   "id": "3d77c1f4",
   "metadata": {},
   "source": [
    "# S6: R-HC"
   ]
  },
  {
   "cell_type": "code",
   "execution_count": 7,
   "id": "38776469",
   "metadata": {},
   "outputs": [
    {
     "name": "stdout",
     "output_type": "stream",
     "text": [
      "./S56_HC/Results/RR/0\n",
      "./S56_HC/Results/RR/1\n",
      "./S56_HC/Results/RR/2\n",
      "./S56_HC/Results/RR/3\n"
     ]
    }
   ],
   "source": [
    "raine = np.load('./RealRain/real.npy').tolist()\n",
    "rainw = np.load('./RealRain/real.npy').tolist()\n",
    "\n",
    "for rainid in range(len(raine)):\n",
    "    inp1 = read_inp_file('./S56_HC/chaohu_RTC.inp')  \n",
    "    inp1[TIMESERIES]['rainfalle']=TimeseriesData('rainfalle',raine[rainid])\n",
    "    inp1[TIMESERIES]['rainfallw']=TimeseriesData('rainfallw',rainw[rainid])\n",
    "    inp1.write_file('./S56_HC/Results/RR/chaohu_rain_'+str(rainid)+'.inp')\n",
    "    step_sim.simfile('./S56_HC/Results/RR/'+str(rainid),'./S56_HC/Results/RR/chaohu_rain_'+str(rainid)+'.inp',rainid,config,params)"
   ]
  },
  {
   "attachments": {},
   "cell_type": "markdown",
   "id": "3c6bc2d5",
   "metadata": {},
   "source": [
    "# S7: RSH-GR-HC"
   ]
  },
  {
   "cell_type": "code",
   "execution_count": 8,
   "id": "707dbc2c",
   "metadata": {},
   "outputs": [
    {
     "name": "stdout",
     "output_type": "stream",
     "text": [
      "./S78_GRHC/Results/RSH/0\n",
      "./S78_GRHC/Results/RSH/1\n",
      "./S78_GRHC/Results/RSH/2\n",
      "./S78_GRHC/Results/RSH/3\n",
      "./S78_GRHC/Results/RSH/4\n",
      "./S78_GRHC/Results/RSH/5\n"
     ]
    }
   ],
   "source": [
    "raine = np.load('./RSH/east.npy').tolist()\n",
    "rainw = np.load('./RSH/west.npy').tolist()\n",
    "\n",
    "for rainid in range(6):\n",
    "    inp = read_inp_file('./S78_GRHC/chaohu_GI_RTC.inp')\n",
    "    # GI\n",
    "    #add_GI(inp)\n",
    "    # rain\n",
    "    inp[TIMESERIES]['rainfalle']=TimeseriesData('rainfalle',raine[rainid])\n",
    "    inp[TIMESERIES]['rainfallw']=TimeseriesData('rainfallw',rainw[rainid])\n",
    "    inp.write_file('./S78_GRHC/Results/RSH/chaohu_rain_'+str(rainid)+'.inp')\n",
    "    step_sim.simfile('./S78_GRHC/Results/RSH/'+str(rainid),'./S78_GRHC/Results/RSH/chaohu_rain_'+str(rainid)+'.inp',rainid,config,params)"
   ]
  },
  {
   "attachments": {},
   "cell_type": "markdown",
   "id": "5dfdbf13",
   "metadata": {},
   "source": [
    "# S8: R-GR-HC"
   ]
  },
  {
   "cell_type": "code",
   "execution_count": 9,
   "id": "e8f5350e",
   "metadata": {},
   "outputs": [
    {
     "name": "stdout",
     "output_type": "stream",
     "text": [
      "./S78_GRHC/Results/RR/0\n",
      "./S78_GRHC/Results/RR/1\n",
      "./S78_GRHC/Results/RR/2\n",
      "./S78_GRHC/Results/RR/3\n"
     ]
    }
   ],
   "source": [
    "raine = np.load('./RealRain/real.npy').tolist()\n",
    "rainw = np.load('./RealRain/real.npy').tolist()\n",
    "\n",
    "for rainid in range(len(raine)):\n",
    "    inp = read_inp_file('./S78_GRHC/chaohu_GI_RTC.inp')\n",
    "    # GI\n",
    "    #add_GI(inp)\n",
    "    # rain\n",
    "    inp[TIMESERIES]['rainfalle']=TimeseriesData('rainfalle',raine[rainid])\n",
    "    inp[TIMESERIES]['rainfallw']=TimeseriesData('rainfallw',rainw[rainid])\n",
    "    inp.write_file('./S78_GRHC/Results/RR/chaohu_rain_'+str(rainid)+'.inp')\n",
    "    step_sim.simfile('./S78_GRHC/Results/RR/'+str(rainid),'./S78_GRHC/Results/RR/chaohu_rain_'+str(rainid)+'.inp',rainid,config,params)\n",
    "    "
   ]
  }
 ],
 "metadata": {
  "kernelspec": {
   "display_name": "Python 3",
   "language": "python",
   "name": "python3"
  },
  "language_info": {
   "codemirror_mode": {
    "name": "ipython",
    "version": 3
   },
   "file_extension": ".py",
   "mimetype": "text/x-python",
   "name": "python",
   "nbconvert_exporter": "python",
   "pygments_lexer": "ipython3",
   "version": "3.9.13"
  }
 },
 "nbformat": 4,
 "nbformat_minor": 5
}
