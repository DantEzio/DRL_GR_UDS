{
 "cells": [
  {
   "cell_type": "code",
   "execution_count": 19,
   "id": "b7cd266f",
   "metadata": {},
   "outputs": [],
   "source": [
    "import pandas as pd\n",
    "from swmm_api.input_file import read_inp_file\n",
    "from swmm_api.input_file.section_labels import *\n",
    "from swmm_api.input_file.sections import *\n",
    "from swmm_api.input_file.helpers import *\n",
    "from swmm_api.input_file.sections.others import TimeseriesData\n",
    "from swmm_api.input_file.section_labels import TIMESERIES\n",
    "import os\n",
    "os.environ['CONDA_DLL_SEARCH_MODIFICATION_ENABLE']=\"1\"\n",
    "import numpy as np\n",
    "import shutil\n",
    "import yaml\n",
    "from pyswmm import Simulation,Links,Nodes,RainGages,SystemStats\n",
    "import matplotlib.pyplot as plt\n",
    "\n",
    "config = yaml.load(open(\"./states_yaml/chaohu.yaml\"), yaml.FullLoader)\n",
    "import step_sim\n",
    "import GI_setting as gs\n",
    "\n",
    "### 获取建筑屋顶面积，设置GI，保存inp\n",
    "def add_GI(inp):\n",
    "    roof=pd.read_csv('polygon.csv')\n",
    "    unit_area=10\n",
    "    for i in range(roof.shape[0]):\n",
    "        number=int(0.5*roof[['roofarea']].iloc[i][0]/unit_area)\n",
    "        #print(roof[['Name']].iloc[i][0],number)\n",
    "        # added line of LID_USAGE\n",
    "        item=gs.LID_setting(roof[['Name']].iloc[i][0],'GreenRoof',number,10,0,0,0,0,'*','*',0)\n",
    "        inp['LID_USAGE'][roof[['Name']].iloc[i][0]]=item"
   ]
  },
  {
   "cell_type": "code",
   "execution_count": 28,
   "id": "b50af536",
   "metadata": {},
   "outputs": [],
   "source": [
    "params={\n",
    "    'kf':1e3,\n",
    "    'kc':1e3,\n",
    "}"
   ]
  },
  {
   "attachments": {},
   "cell_type": "markdown",
   "id": "c56087e2",
   "metadata": {},
   "source": [
    "# S1: RSH"
   ]
  },
  {
   "cell_type": "code",
   "execution_count": 29,
   "id": "6b159e46",
   "metadata": {},
   "outputs": [],
   "source": [
    "raine = np.load('./RSH/east.npy').tolist()\n",
    "rainw = np.load('./RSH/west.npy').tolist()\n",
    "inp1 = read_inp_file('./S1/chaohu_.inp')\n",
    "\n",
    "for rainid in range(6):\n",
    "    inp1[TIMESERIES]['rainfalle']=TimeseriesData('rainfalle',raine[rainid])\n",
    "    inp1[TIMESERIES]['rainfallw']=TimeseriesData('rainfallw',rainw[rainid])\n",
    "    inp1.write_file('./S1/Results/chaohu_rain_'+str(rainid)+'.inp')\n",
    "    step_sim.simfile('S1','./S1/Results/chaohu_rain_'+str(rainid)+'.inp',rainid,config,params)\n"
   ]
  },
  {
   "attachments": {},
   "cell_type": "markdown",
   "id": "56e2c762-c1d0-47ac-8cfb-4296f608cbd9",
   "metadata": {},
   "source": [
    "# S2: R"
   ]
  },
  {
   "cell_type": "code",
   "execution_count": 30,
   "id": "033d5885-404f-413e-a08d-016ea65889e7",
   "metadata": {},
   "outputs": [],
   "source": [
    "rain = np.load('./RealRain/real.npy').tolist()\n",
    "inp1 = read_inp_file('./S2/chaohu_.inp')\n",
    "\n",
    "for rainid in range(len(rain)):    \n",
    "    inp1[TIMESERIES]['rainfalle']=TimeseriesData('rainfalle',rain[rainid])\n",
    "    inp1[TIMESERIES]['rainfallw']=TimeseriesData('rainfallw',rain[rainid])\n",
    "    inp1.write_file('./S2/Results/chaohu_rain_'+str(rainid)+'.inp')\n",
    "    step_sim.simfile('S2','./S2/Results/chaohu_rain_'+str(rainid)+'.inp',rainid,config,params)"
   ]
  },
  {
   "attachments": {},
   "cell_type": "markdown",
   "id": "9c51e547",
   "metadata": {},
   "source": [
    "# S3: RSH-GR"
   ]
  },
  {
   "cell_type": "code",
   "execution_count": 31,
   "id": "96848020",
   "metadata": {},
   "outputs": [],
   "source": [
    "raine = np.load('./RSH/east.npy').tolist()\n",
    "rainw = np.load('./RSH/east.npy').tolist()\n",
    "\n",
    "for rainid in range(6):\n",
    "    inp = read_inp_file('./S3/chaohu_GI.inp')\n",
    "    # GI\n",
    "    #add_GI(inp)\n",
    "    # rain\n",
    "    inp[TIMESERIES]['rainfalle']=TimeseriesData('rainfalle',raine[rainid])\n",
    "    inp[TIMESERIES]['rainfallw']=TimeseriesData('rainfallw',rainw[rainid])\n",
    "    inp.write_file('./S3/Results/chaohu_GI_rain_'+str(rainid)+'.inp')\n",
    "    step_sim.simfile('S3','./S3/Results/chaohu_GI_rain_'+str(rainid)+'.inp',rainid,config,params)"
   ]
  },
  {
   "attachments": {},
   "cell_type": "markdown",
   "id": "59ba722d",
   "metadata": {},
   "source": [
    "# S4: R-GR"
   ]
  },
  {
   "cell_type": "code",
   "execution_count": 32,
   "id": "7b3661bb",
   "metadata": {},
   "outputs": [],
   "source": [
    "rain = np.load('./RealRain/real.npy').tolist()\n",
    "\n",
    "for rainid in range(len(rain)):\n",
    "    inp = read_inp_file('./S4/chaohu_GI.inp')\n",
    "    # GI\n",
    "    #add_GI(inp)\n",
    "    # rain\n",
    "    inp[TIMESERIES]['rainfalle']=TimeseriesData('rainfalle',rain[rainid])\n",
    "    inp[TIMESERIES]['rainfallw']=TimeseriesData('rainfallw',rain[rainid])\n",
    "    inp.write_file('./S4/Results/chaohu_GI_noRTC_rain_'+str(rainid)+'.inp')\n",
    "    step_sim.simfile('S4','./S4/Results/chaohu_GI_noRTC_rain_'+str(rainid)+'.inp',rainid,config,params)\n",
    "    "
   ]
  },
  {
   "attachments": {},
   "cell_type": "markdown",
   "id": "08020c20",
   "metadata": {},
   "source": [
    "# S5: RSH-HC"
   ]
  },
  {
   "cell_type": "code",
   "execution_count": 33,
   "id": "5bdd7cd2",
   "metadata": {},
   "outputs": [],
   "source": [
    "raine = np.load('./RSH/east.npy').tolist()\n",
    "rainw = np.load('./RSH/east.npy').tolist()\n",
    "inp1 = read_inp_file('./S5/chaohu_RTC.inp')\n",
    "\n",
    "for rainid in range(6):\n",
    "    inp1[TIMESERIES]['rainfalle']=TimeseriesData('rainfalle',raine[rainid])\n",
    "    inp1[TIMESERIES]['rainfallw']=TimeseriesData('rainfallw',rainw[rainid])\n",
    "    inp1.write_file('./S5/Results/chaohu_rain_'+str(rainid)+'.inp')\n",
    "    step_sim.simfile('S5','./S5/Results/chaohu_rain_'+str(rainid)+'.inp',rainid,config,params)\n"
   ]
  },
  {
   "attachments": {},
   "cell_type": "markdown",
   "id": "3d77c1f4",
   "metadata": {},
   "source": [
    "# S6: R-HC"
   ]
  },
  {
   "cell_type": "code",
   "execution_count": 34,
   "id": "38776469",
   "metadata": {},
   "outputs": [],
   "source": [
    "rain = np.load('./RealRain/real.npy').tolist()\n",
    "inp1 = read_inp_file('./S6/chaohu_RTC.inp')\n",
    "\n",
    "for rainid in range(len(rain)):    \n",
    "    inp1[TIMESERIES]['rainfalle']=TimeseriesData('rainfalle',rain[rainid])\n",
    "    inp1[TIMESERIES]['rainfallw']=TimeseriesData('rainfallw',rain[rainid])\n",
    "    inp1.write_file('./S6/Results/chaohu_rain_'+str(rainid)+'.inp')\n",
    "    step_sim.simfile('S6','./S6/Results/chaohu_rain_'+str(rainid)+'.inp',rainid,config,params)"
   ]
  },
  {
   "attachments": {},
   "cell_type": "markdown",
   "id": "3c6bc2d5",
   "metadata": {},
   "source": [
    "# S7: RSH-GR-HC"
   ]
  },
  {
   "cell_type": "code",
   "execution_count": 35,
   "id": "707dbc2c",
   "metadata": {},
   "outputs": [],
   "source": [
    "raine = np.load('./RSH/east.npy').tolist()\n",
    "rainw = np.load('./RSH/east.npy').tolist()\n",
    "\n",
    "for rainid in range(6):\n",
    "    inp = read_inp_file('./S7/chaohu_GI_RTC.inp')\n",
    "    # GI\n",
    "    #add_GI(inp)\n",
    "    # rain\n",
    "    inp[TIMESERIES]['rainfalle']=TimeseriesData('rainfalle',raine[rainid])\n",
    "    inp[TIMESERIES]['rainfallw']=TimeseriesData('rainfallw',rainw[rainid])\n",
    "    inp.write_file('./S7/Results/chaohu_GI_rain_'+str(rainid)+'.inp')\n",
    "    step_sim.simfile('S7','./S7/Results/chaohu_GI_rain_'+str(rainid)+'.inp',rainid,config,params)"
   ]
  },
  {
   "attachments": {},
   "cell_type": "markdown",
   "id": "5dfdbf13",
   "metadata": {},
   "source": [
    "# S8: R-GR-HC"
   ]
  },
  {
   "cell_type": "code",
   "execution_count": null,
   "id": "e8f5350e",
   "metadata": {},
   "outputs": [],
   "source": [
    "rain = np.load('./RealRain/real.npy').tolist()\n",
    "\n",
    "for rainid in range(len(rain)):\n",
    "    inp = read_inp_file('./S8/chaohu_GI_RTC.inp')\n",
    "    # GI\n",
    "    #add_GI(inp)\n",
    "    # rain\n",
    "    inp[TIMESERIES]['rainfalle']=TimeseriesData('rainfalle',rain[rainid])\n",
    "    inp[TIMESERIES]['rainfallw']=TimeseriesData('rainfallw',rain[rainid])\n",
    "    inp.write_file('./S8/Results/chaohu_GI_rain_'+str(rainid)+'.inp')\n",
    "    step_sim.simfile('S8','./S8/Results/chaohu_GI_rain_'+str(rainid)+'.inp',rainid,config,params)\n",
    "    "
   ]
  }
 ],
 "metadata": {
  "kernelspec": {
   "display_name": "Python 3",
   "language": "python",
   "name": "python3"
  },
  "language_info": {
   "codemirror_mode": {
    "name": "ipython",
    "version": 3
   },
   "file_extension": ".py",
   "mimetype": "text/x-python",
   "name": "python",
   "nbconvert_exporter": "python",
   "pygments_lexer": "ipython3",
   "version": "3.9.13"
  }
 },
 "nbformat": 4,
 "nbformat_minor": 5
}
