{
 "cells": [
  {
   "cell_type": "code",
   "execution_count": 2,
   "metadata": {},
   "outputs": [],
   "source": [
    "import numpy as np\n",
    "import SWMM_ENV\n",
    "import Buffer\n",
    "import tensorflow as tf\n",
    "import PPO as PPO\n",
    "import Rainfall_data as RD\n",
    "\n",
    "import datetime\n",
    "import matplotlib.pyplot as plt\n",
    "from joblib import Parallel, delayed\n",
    "import matplotlib.pyplot as plt"
   ]
  },
  {
   "cell_type": "code",
   "execution_count": 3,
   "metadata": {},
   "outputs": [],
   "source": [
    "env_params={\n",
    "    'orf':'chaohu_GI',\n",
    "    'parm':'./states_yaml/chaohu',\n",
    "    'GI':True,\n",
    "    'advance_seconds':300,\n",
    "    'kf':0.5,\n",
    "    'kc':0.5,\n",
    "}\n",
    "env=SWMM_ENV.SWMM_ENV(env_params)"
   ]
  },
  {
   "cell_type": "code",
   "execution_count": 4,
   "metadata": {},
   "outputs": [],
   "source": [
    "raindatae = np.load('./training_rainfall/training_raindata.npy').tolist()\n",
    "raindataw = np.load('./training_rainfall/training_raindata.npy').tolist()\n",
    "i=0"
   ]
  },
  {
   "cell_type": "code",
   "execution_count": 5,
   "metadata": {},
   "outputs": [],
   "source": [
    "observation, episode_return, episode_length = env.reset(raindatae[i],raindataw[i],i,True), 0, 0"
   ]
  }
 ],
 "metadata": {
  "kernelspec": {
   "display_name": "tensorflow-cpu",
   "language": "python",
   "name": "python3"
  },
  "language_info": {
   "codemirror_mode": {
    "name": "ipython",
    "version": 3
   },
   "file_extension": ".py",
   "mimetype": "text/x-python",
   "name": "python",
   "nbconvert_exporter": "python",
   "pygments_lexer": "ipython3",
   "version": "3.9.13"
  },
  "orig_nbformat": 4
 },
 "nbformat": 4,
 "nbformat_minor": 2
}
