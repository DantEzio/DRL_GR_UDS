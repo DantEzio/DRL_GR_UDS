{
 "cells": [
  {
   "attachments": {},
   "cell_type": "markdown",
   "metadata": {},
   "source": [
    "# 获取Flooding和CSO"
   ]
  },
  {
   "cell_type": "code",
   "execution_count": 1,
   "metadata": {},
   "outputs": [
    {
     "name": "stderr",
     "output_type": "stream",
     "text": [
      "e:\\anaconda3\\envs\\tensorflow-cpu\\lib\\site-packages\\tqdm\\auto.py:22: TqdmWarning: IProgress not found. Please update jupyter and ipywidgets. See https://ipywidgets.readthedocs.io/en/stable/user_install.html\n",
      "  from .autonotebook import tqdm as notebook_tqdm\n"
     ]
    }
   ],
   "source": [
    "import pyswmm\n",
    "import numpy as np\n",
    "from swmm_api import read_out_file\n",
    "from swmm_api import output_file\n",
    "from swmm_api import read_rpt_file\n",
    "import matplotlib.pyplot as plt"
   ]
  },
  {
   "attachments": {},
   "cell_type": "markdown",
   "metadata": {},
   "source": [
    "CSO节点：CC-1，CC-2，JK-1，JK-2\n",
    "Flooding：system flooding"
   ]
  },
  {
   "cell_type": "code",
   "execution_count": 2,
   "metadata": {},
   "outputs": [],
   "source": [
    "def get_CSOFlooding(file,rainid):\n",
    "    rpt = read_rpt_file(file+rainid+'.rpt')\n",
    "    #统计CSO值\n",
    "    CSO=np.sum([rpt.node_inflow_summary.loc['CC-1'][['Total_Inflow_Volume_10^6 ltr']].values[0],\n",
    "            rpt.node_inflow_summary.loc['CC-2'][['Total_Inflow_Volume_10^6 ltr']].values[0],\n",
    "            rpt.node_inflow_summary.loc['JK-1'][['Total_Inflow_Volume_10^6 ltr']].values[0],\n",
    "            rpt.node_inflow_summary.loc['JK-2'][['Total_Inflow_Volume_10^6 ltr']].values[0]\n",
    "    ])\n",
    "    #统计Flooding值\n",
    "    flooding = np.sum(rpt.node_flooding_summary[['Total_Flood_Volume_10^6 ltr']].values)\n",
    "    return CSO,flooding"
   ]
  },
  {
   "cell_type": "code",
   "execution_count": 15,
   "metadata": {},
   "outputs": [
    {
     "name": "stdout",
     "output_type": "stream",
     "text": [
      "Rain0,bm-original-GI\n",
      "[(4.424, 0.103), (0.7608, 0.182), (0.7608, 0.122)]\n",
      "Rain1,bm-original-GI\n",
      "[(3.91, 0.078), (0.7608, 0.096), (0.7608, 0.083)]\n",
      "Rain2,bm-original-GI\n",
      "[(4.728000000000001, 0.11), (0.7608, 0.205), (0.7608, 0.14)]\n",
      "Rain3,bm-original-GI\n",
      "[(4.346, 0.097), (0.7608, 0.165), (0.7608, 0.097)]\n"
     ]
    }
   ],
   "source": [
    "for rid in ['0','1','2','3']:\n",
    "    p=[get_CSOFlooding('./RealRain_simulation/Results/bm-Original/chaohu_rain_',rid),\n",
    "       get_CSOFlooding('./RealRain_simulation/Results/Original/chaohu_rain_',rid),\n",
    "       get_CSOFlooding('./RealRain_simulation/Results/GI/chaohu_GI_rain_',rid)]\n",
    "    print('Rain'+rid+',bm-original-GI')\n",
    "    print(p)\n"
   ]
  }
 ],
 "metadata": {
  "kernelspec": {
   "display_name": "base",
   "language": "python",
   "name": "python3"
  },
  "language_info": {
   "codemirror_mode": {
    "name": "ipython",
    "version": 3
   },
   "file_extension": ".py",
   "mimetype": "text/x-python",
   "name": "python",
   "nbconvert_exporter": "python",
   "pygments_lexer": "ipython3",
   "version": "3.9.13"
  },
  "orig_nbformat": 4,
  "vscode": {
   "interpreter": {
    "hash": "7bdfec4e4745230aa72b6b3b9f6cf04179ed160966ad1f3d6706347769a5dbdb"
   }
  }
 },
 "nbformat": 4,
 "nbformat_minor": 2
}
