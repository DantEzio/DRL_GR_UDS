{
 "cells": [
  {
   "cell_type": "code",
   "execution_count": null,
   "metadata": {},
   "outputs": [],
   "source": [
    "import pyswmm\n",
    "import numpy as np\n",
    "import pandas as pd\n",
    "from swmm_api import read_out_file\n",
    "from swmm_api import output_file\n",
    "from swmm_api import read_rpt_file\n",
    "import matplotlib.pyplot as plt"
   ]
  },
  {
   "attachments": {},
   "cell_type": "markdown",
   "metadata": {},
   "source": [
    "# 准备单张图，然后拼接"
   ]
  },
  {
   "attachments": {},
   "cell_type": "markdown",
   "metadata": {},
   "source": [
    "## RSH降雨图"
   ]
  },
  {
   "cell_type": "code",
   "execution_count": null,
   "metadata": {},
   "outputs": [],
   "source": [
    "erains=np.load('./Step2_Rainfall_design/RSH/east.npy').tolist()\n",
    "wrains=np.load('./Step2_Rainfall_design/RSH/west.npy').tolist()\n",
    "# 转化为数组\n",
    "ers,wrs=[],[]\n",
    "for i in range(len(erains)):\n",
    "    teme,temw=[],[]\n",
    "    for j in range(len(erains[i])):\n",
    "        teme.append(float(erains[i][j][1]))\n",
    "        temw.append(float(wrains[i][j][1]))\n",
    "    ers.append(teme)\n",
    "    wrs.append(temw)\n",
    "\n",
    "ers=np.array(ers)\n",
    "wrs=np.array(wrs)"
   ]
  },
  {
   "cell_type": "code",
   "execution_count": null,
   "metadata": {},
   "outputs": [],
   "source": [
    "font1 = {\n",
    "    'family':'Times New Roman',\n",
    "    'weight':'normal',\n",
    "    'size':45,\n",
    "}\n",
    "fig,ax=plt.subplots(6,2,figsize=(40,30))\n",
    "\n",
    "for i in range(len(erains)):\n",
    "    ax[i][0].bar([x for x in range(ers.shape[1])],ers[i,:])\n",
    "    ax[i][0].set_title('RSH'+str(i+1)+' East rainfall',font=font1)\n",
    "    ax[i][1].bar([x for x in range(wrs.shape[1])],wrs[i,:])\n",
    "    ax[i][1].set_title('RSH'+str(i+1)+' West rainfall',font=font1)\n",
    "\n",
    "    ax[i][0].tick_params(axis='y',labelsize=30)\n",
    "    ax[i][1].tick_params(axis='y',labelsize=30)\n",
    "    if i ==5:\n",
    "        ax[i][0].set_xticks([0,120])\n",
    "        ax[i][1].set_xticks([0,120])\n",
    "        ax[i][0].tick_params(axis='x',labelsize=30)\n",
    "        ax[i][1].tick_params(axis='x',labelsize=30)\n",
    "        ax[i][0].set_xlabel('Time (hour)',font=font1)\n",
    "        ax[i][1].set_xlabel('Time (hour)',font=font1)\n",
    "    else:\n",
    "        ax[i][0].set_xticks([])\n",
    "        ax[i][1].set_xticks([])\n",
    "\n",
    "    if i==2:\n",
    "        ax[i][0].set_ylabel('Rain intensity (mm/hour)',font=font1)\n",
    "\n",
    "plt.savefig('./Figs/rainfall.png',dpi=300,bbox_inches='tight')"
   ]
  },
  {
   "attachments": {},
   "cell_type": "markdown",
   "metadata": {},
   "source": [
    "# FC结果图"
   ]
  },
  {
   "attachments": {},
   "cell_type": "markdown",
   "metadata": {},
   "source": [
    "## RSH的所有控制过程数据\n"
   ]
  },
  {
   "cell_type": "code",
   "execution_count": null,
   "metadata": {},
   "outputs": [],
   "source": [
    "# RSH的所有控制过程数据： S1,3,5,7,9,11\n",
    "\n",
    "font1 = {\n",
    "    'family':'Times New Roman',\n",
    "    'weight':'normal',\n",
    "    'size':45,\n",
    "}\n",
    "items=['./Step3_1_S1-S8/S1/Results/',\n",
    "       './Step3_1_S1-S8/S3/Results/',\n",
    "       './Step3_1_S1-S8/S5/Results/',\n",
    "       './Step3_1_S1-S8/S7/Results/',\n",
    "       './Step4_RTC/PPO/Results/RSH/']\n",
    "names=['S1: without GI, without RTC',\n",
    "       'S3: with GI, without RTC',\n",
    "       'S5: without GI, with HC',\n",
    "       'S7: with GI, with HC',\n",
    "       'S9: with GI, with PPO']\n",
    "\n",
    "fig,ax=plt.subplots(3,2,figsize=(40,30))\n",
    "i,j=0,0\n",
    "for k in range(6):\n",
    "    for s in range(len(items)):\n",
    "        data=np.load(items[s]+str(k)+'.npy',allow_pickle=True).tolist()\n",
    "        ax[i][j].plot(np.array(data['F'])+np.array(data['C']), label=names[s],linewidth=3)\n",
    "    \n",
    "    ax[i][j].legend(fontsize=30)\n",
    "    ax[i][j].tick_params(axis='y',labelsize=30)\n",
    "    ax[i][j].tick_params(axis='x',labelsize=30)\n",
    "    ax[i][j].set_title('RSH'+str(k+1),font=font1)\n",
    "    ax[i][j].set_xticks([0,95],[0,480])\n",
    "    if i==1:\n",
    "        ax[i][j].set_ylabel('Flooding and CSO volume ('+'$m^{3}$'+')',font=font1)\n",
    "\n",
    "    if i ==2:\n",
    "        ax[i][j].set_xlabel('Time (minute)',font=font1)\n",
    "\n",
    "    j+=1\n",
    "    if j==2:\n",
    "        i+=1\n",
    "        j=0\n",
    "\n",
    "plt.savefig('./Figs/FC.png',dpi=300,bbox_inches='tight')"
   ]
  },
  {
   "attachments": {},
   "cell_type": "markdown",
   "metadata": {},
   "source": [
    "# Res结果图"
   ]
  },
  {
   "cell_type": "code",
   "execution_count": null,
   "metadata": {},
   "outputs": [],
   "source": [
    "# RSH的所有控制过程数据： S1,3,5,7,9,11\n",
    "\n",
    "font1 = {\n",
    "    'family':'Times New Roman',\n",
    "    'weight':'normal',\n",
    "    'size':45,\n",
    "}\n",
    "items=['./Step3_1_S1-S8/S1/Results/',\n",
    "       './Step3_1_S1-S8/S3/Results/',\n",
    "       './Step3_1_S1-S8/S5/Results/',\n",
    "       './Step3_1_S1-S8/S7/Results/',\n",
    "       './Step4_RTC/PPO/Results/RSH/']\n",
    "names=['S1: without GI, without RTC',\n",
    "       'S3: with GI, without RTC',\n",
    "       'S5: without GI, with HC',\n",
    "       'S7: with GI, with HC',\n",
    "       'S9: with GI, with PPO']\n",
    "\n",
    "fig,ax=plt.subplots(3,2,figsize=(40,30))\n",
    "i,j=0,0\n",
    "for k in range(6):\n",
    "    for s in range(len(items)):\n",
    "        data=np.load(items[s]+str(k)+'.npy',allow_pickle=True).tolist()\n",
    "        ax[i][j].plot(np.array(data['RES']), label=names[s],linewidth=3)\n",
    "    \n",
    "    ax[i][j].legend(fontsize=30)\n",
    "    ax[i][j].tick_params(axis='y',labelsize=30)\n",
    "    ax[i][j].tick_params(axis='x',labelsize=30)\n",
    "    ax[i][j].set_title('RSH'+str(k+1),font=font1)\n",
    "    ax[i][j].set_xticks([0,95],[0,480])\n",
    "    if i==1:\n",
    "        ax[i][j].set_ylabel('Res'+'$_{t}$'+' values)',font=font1)\n",
    "\n",
    "    if i ==2:\n",
    "        ax[i][j].set_xlabel('Time (minute)',font=font1)\n",
    "\n",
    "    j+=1\n",
    "    if j==2:\n",
    "        i+=1\n",
    "        j=0\n",
    "\n",
    "plt.savefig('./Figs/RES.png',dpi=300,bbox_inches='tight')"
   ]
  }
 ],
 "metadata": {
  "kernelspec": {
   "display_name": "tensorflow-cpu",
   "language": "python",
   "name": "python3"
  },
  "language_info": {
   "codemirror_mode": {
    "name": "ipython",
    "version": 3
   },
   "file_extension": ".py",
   "mimetype": "text/x-python",
   "name": "python",
   "nbconvert_exporter": "python",
   "pygments_lexer": "ipython3",
   "version": "3.9.13"
  },
  "orig_nbformat": 4
 },
 "nbformat": 4,
 "nbformat_minor": 2
}
